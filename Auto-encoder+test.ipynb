{
 "cells": [
  {
   "cell_type": "code",
   "execution_count": 26,
   "metadata": {
    "collapsed": true
   },
   "outputs": [],
   "source": [
    "import numpy as np\n",
    "import sklearn.preprocessing as prep\n",
    "import tensorflow as tf\n",
    "from tensorflow.examples.tutorials.mnist import input_data\n",
    "from autoencoder_models.VariationalAutoencoder import VariationalAutoencoder\n",
    "from scipy import sparse\n",
    "import pandas as pd\n",
    "from IPython.core.display import Image, display, HTML"
   ]
  },
  {
   "cell_type": "code",
   "execution_count": 2,
   "metadata": {
    "collapsed": true
   },
   "outputs": [],
   "source": [
    "docs = sparse.load_npz('../../page_vecs_sparse.npz')"
   ]
  },
  {
   "cell_type": "code",
   "execution_count": 3,
   "metadata": {
    "collapsed": true
   },
   "outputs": [],
   "source": [
    "def abs_scale(X_train, X_test):\n",
    "    ''' Scale by each feature's max value '''\n",
    "    preprocessor = prep.MaxAbsScaler().fit(X_train)\n",
    "    X_train = preprocessor.transform(X_train)\n",
    "    X_test = preprocessor.transform(X_test)\n",
    "    return X_train, X_test\n",
    "\n",
    "def get_random_docs(data, batch_size):\n",
    "    ''' Select a random subset of the docs'''\n",
    "    random_indexes = np.random.permutation(np.arange(data.shape[0]))[:batch_size]\n",
    "    return data[random_indexes]"
   ]
  },
  {
   "cell_type": "code",
   "execution_count": 4,
   "metadata": {
    "collapsed": true
   },
   "outputs": [],
   "source": [
    "X_train, X_test = abs_scale(docs[:250000,:], docs[250000:,:])"
   ]
  },
  {
   "cell_type": "code",
   "execution_count": 5,
   "metadata": {},
   "outputs": [
    {
     "data": {
      "text/plain": [
       "(250000, 4, 512, 1)"
      ]
     },
     "execution_count": 5,
     "metadata": {},
     "output_type": "execute_result"
    }
   ],
   "source": [
    "n_samples = int(X_train.shape[0])\n",
    "training_epochs = 4\n",
    "batch_size = 512\n",
    "display_step = 1\n",
    "n_samples, training_epochs, batch_size, display_step"
   ]
  },
  {
   "cell_type": "code",
   "execution_count": 6,
   "metadata": {
    "collapsed": true
   },
   "outputs": [],
   "source": [
    "autoencoder = VariationalAutoencoder(n_input = docs.shape[1],\n",
    "                                     n_hidden = 200,\n",
    "                                     optimizer = tf.train.AdamOptimizer(learning_rate = 0.001))"
   ]
  },
  {
   "cell_type": "code",
   "execution_count": 7,
   "metadata": {
    "scrolled": true
   },
   "outputs": [
    {
     "name": "stdout",
     "output_type": "stream",
     "text": [
      "Epoch: 0001 cost= 633.131289000\n",
      "Epoch: 0002 cost= 629.585562000\n",
      "Epoch: 0003 cost= 628.867468125\n",
      "Epoch: 0004 cost= 631.037214750\n",
      "Total cost: 47619.8\n"
     ]
    }
   ],
   "source": [
    "for epoch in range(training_epochs):\n",
    "    avg_cost = 0.\n",
    "    total_batch = int(n_samples / batch_size)\n",
    "    # Loop over all batches\n",
    "    for i in range(total_batch):\n",
    "        batch_xs = get_random_docs(X_train, batch_size)\n",
    "\n",
    "        # Fit training using batch data\n",
    "        cost = autoencoder.partial_fit(batch_xs.toarray())\n",
    "        # Compute average loss\n",
    "        avg_cost += cost / n_samples * batch_size\n",
    "\n",
    "    # Display logs per epoch step\n",
    "    if epoch % display_step == 0:\n",
    "        print(\"Epoch:\", '%04d' % (epoch + 1), \"cost=\", \"{:.9f}\".format(avg_cost))\n",
    "\n",
    "print(\"Total cost: \" + str(autoencoder.calc_total_cost(X_test.toarray())))"
   ]
  },
  {
   "cell_type": "markdown",
   "metadata": {},
   "source": [
    "- 1024 batch, 2 epoch: total cost: 46129.7\n",
    "- 512 batch, 4 epoch: total cost: 47619.8"
   ]
  },
  {
   "cell_type": "code",
   "execution_count": 22,
   "metadata": {
    "collapsed": true
   },
   "outputs": [],
   "source": [
    "tl = []\n",
    "for i in range(int(X_train.shape[0]/100)):\n",
    "    transformed = autoencoder.transform(X_train[i*100:(i+1)*100].toarray())\n",
    "    tl.append(transformed)\n",
    "all_transformed = np.vstack(tl)"
   ]
  },
  {
   "cell_type": "code",
   "execution_count": 82,
   "metadata": {},
   "outputs": [
    {
     "data": {
      "text/plain": [
       "array([[ -1.55527629e-02,  -4.09963652e-02,  -3.35380528e-03, ...,\n",
       "          2.28860416e-04,  -4.89446009e-03,  -1.47530641e-02],\n",
       "       [  8.44246801e-03,  -5.38064446e-03,   9.92728863e-03, ...,\n",
       "         -2.16895118e-02,  -3.87283484e-03,  -2.44846512e-02],\n",
       "       [ -1.63031416e-03,  -3.28462832e-02,   1.43629564e-02, ...,\n",
       "         -2.37468518e-02,  -4.01131026e-02,   3.57775912e-02],\n",
       "       ..., \n",
       "       [  1.01382751e-02,  -1.16517514e-01,   1.98340937e-02, ...,\n",
       "          9.38276574e-02,  -9.94200073e-03,   8.33654925e-02],\n",
       "       [  3.15664150e-03,   2.18842342e-01,   1.90707184e-02, ...,\n",
       "          2.53360439e-02,  -3.26796956e-02,  -1.33861117e-02],\n",
       "       [ -5.47616817e-02,   2.80428290e-01,   7.47864693e-02, ...,\n",
       "          6.90316856e-02,  -1.31352931e-01,   4.06380221e-02]], dtype=float32)"
      ]
     },
     "execution_count": 82,
     "metadata": {},
     "output_type": "execute_result"
    }
   ],
   "source": [
    "all_transformed"
   ]
  },
  {
   "cell_type": "code",
   "execution_count": 29,
   "metadata": {
    "collapsed": true
   },
   "outputs": [],
   "source": [
    "page_ref = pd.read_hdf('../../page_vecs_order_ref.h5')\n",
    "with pd.HDFStore('../../cookbooks/ref.h5') as store:\n",
    "    dictionary = store['dictionary']\n",
    "    metadata = store['metadata']\n",
    "    volids = store['volids']"
   ]
  },
  {
   "cell_type": "markdown",
   "metadata": {},
   "source": [
    "# Saving model"
   ]
  },
  {
   "cell_type": "code",
   "execution_count": 1170,
   "metadata": {},
   "outputs": [
    {
     "data": {
      "text/plain": [
       "'../../autoencoder-model-13529-200.tf'"
      ]
     },
     "execution_count": 1170,
     "metadata": {},
     "output_type": "execute_result"
    }
   ],
   "source": [
    "saver = tf.train.Saver(autoencoder.weights)\n",
    "saver.save(autoencoder.sess, '../../autoencoder-model-13529-200.tf')"
   ]
  },
  {
   "cell_type": "markdown",
   "metadata": {},
   "source": [
    "To restore:\n",
    "\n",
    "```\n",
    "autoencoder = VariationalAutoencoder(n_input = 13529,\n",
    "                                     n_hidden = 200,\n",
    "                                     optimizer = tf.train.AdamOptimizer(learning_rate = 0.001))\n",
    "saver = tf.train.Saver(autoencoder.weights)\n",
    "saver.restore(autoencoder.sess, '../../autoencoder-model-13529-200.tf')\n",
    "```"
   ]
  },
  {
   "cell_type": "code",
   "execution_count": 1169,
   "metadata": {},
   "outputs": [
    {
     "data": {
      "text/plain": [
       "<tf.Tensor 'Placeholder:0' shape=(?, 13529) dtype=float32>"
      ]
     },
     "execution_count": 1169,
     "metadata": {},
     "output_type": "execute_result"
    }
   ],
   "source": [
    "autoencoder.x"
   ]
  },
  {
   "cell_type": "markdown",
   "metadata": {},
   "source": [
    "# Examine autoencoder dimensions"
   ]
  },
  {
   "cell_type": "code",
   "execution_count": 533,
   "metadata": {},
   "outputs": [
    {
     "data": {
      "text/plain": [
       "(13529, 200)"
      ]
     },
     "execution_count": 533,
     "metadata": {},
     "output_type": "execute_result"
    }
   ],
   "source": [
    "term_weights = autoencoder.getWeights()\n",
    "term_weights.shape"
   ]
  },
  {
   "cell_type": "code",
   "execution_count": 557,
   "metadata": {},
   "outputs": [
    {
     "data": {
      "text/plain": [
       "8907     0.113686\n",
       "13380    0.112235\n",
       "13015    0.106644\n",
       "9214     0.100868\n",
       "10726    0.100818\n",
       "12441    0.099627\n",
       "38       0.099288\n",
       "10125    0.098253\n",
       "6858     0.098244\n",
       "dtype: float32"
      ]
     },
     "execution_count": 557,
     "metadata": {},
     "output_type": "execute_result"
    }
   ],
   "source": [
    "sortdim[:-10:-1]"
   ]
  },
  {
   "cell_type": "markdown",
   "metadata": {},
   "source": [
    "### What do the dimensions (roughly) mean\n",
    "\n",
    "Note that 200 is still a large dimension count for such a tight space, and that values range from negative to positive. Topic modeling or clustering on these dimensions will give a better impression of what they're about."
   ]
  },
  {
   "cell_type": "code",
   "execution_count": 565,
   "metadata": {},
   "outputs": [
    {
     "name": "stdout",
     "output_type": "stream",
     "text": [
      "Dimension 0 is about\t\t ajo, siguiente, alentejo, insight, perforation, auberge, brown, eastem, ๑/๒\n",
      "Dimension 0 is inversely about\t qq, =l, anonymous, appetiser, boar, ratafia, thrift, arugula, liqueﬁed, lancaster\n",
      "Dimension 1 is about\t\t combine, many, serve, sprinkle, grate, green, cut, dish, lay\n",
      "Dimension 1 is inversely about\t add, heat, simmer, water, remove, stir, bring, meet, fare, boil\n",
      "Dimension 2 is about\t\t combine, place, grease, remove, woolen, bisquit, shorten, doufu, baking\n",
      "Dimension 2 is inversely about\t tablespoon, cook, add, stir, heat, thicken, plat, prohibition, austin, cornstarch\n",
      "Dimension 3 is about\t\t sprinkle, place, side, follower, remove, barbados, wool, ting, lievre\n",
      "Dimension 3 is inversely about\t use, add, water, kelley, grub, connect, cuvee, gage, paddle, cook\n",
      "Dimension 4 is about\t\t food, ог, centigrade, palmer, jerky, skinny, temperance, fermentation, jaggery\n",
      "Dimension 4 is inversely about\t have, remove, sterilization, saumon, ﬂeſh, triﬂe, crepe, warehouse, frito, crevettes\n",
      "Dimension 5 is about\t\t preheat, cocido, salf, soup—consomme, hojas, dwelling, higgins, flesh, vierta\n",
      "Dimension 5 is inversely about\t knead, roll, ππε, dough, gt, braid, sticker, craftsman, cut, mojo\n",
      "Dimension 6 is about\t\t smooth, argentine, bulge, famine, toss, serve, radiation, cayenne, mochi\n",
      "Dimension 6 is inversely about\t brown, cover, overhang, caloric, thompson, ), cranberry, meat, pan, cardboard\n",
      "Dimension 7 is about\t\t combine, teaspoon, tablespoon, let, water, place, stand, shorten, yeast\n",
      "Dimension 7 is inversely about\t cream, whip, beat, white, yolk, stiff, whale, tarnish, layer, fold\n",
      "Dimension 8 is about\t\t combine, labourer, capsule, mercy, immune, chump, crave, constantemente, rioja\n",
      "Dimension 8 is inversely about\t cut, derretida, mae, greg, versailles, green, veneto, cannon, thin, smorgasbord\n",
      "Dimension 9 is about\t\t use, cook, hojas, cyder, water, casing, heritage, xx, rowland\n",
      "Dimension 9 is inversely about\t reduce, pattem, flux, have, poway, coronation, putrefaction, leap, posture, s.a.\n",
      "Dimension 10 is about\t\t lightning, bavaroise, barm, alhambra, swede, trust, méringue, bunuelos, galangal\n",
      "Dimension 10 is inversely about\t twin, clarke, horas, bunyard, mullins, carey, nero, radical, serve, adulteration\n",
      "Dimension 11 is about\t\t :n, chesapeake, importation, she, counsel, marigold, slipper, massage, tow\n",
      "Dimension 11 is inversely about\t tumblerful, brown, pete, vernon, brace, icing, brooks, edwards, glaces, brewer\n",
      "Dimension 12 is about\t\t comida, times, rene, conical, méxico, grocery, humbert, williamsburg, memphis\n",
      "Dimension 12 is inversely about\t sardine, smooth, crustacean, thinness, :__, ibs, sterilization, pastor, languedoc, combine\n",
      "Dimension 13 is about\t\t teaspoon, tablespoon, cup, brown, cook, -water, have, salt, chop\n",
      "Dimension 13 is inversely about\t combine, remove, c., owc, afb, с, yield, remain, place, pres\n",
      "Dimension 14 is about\t\t cook, water, boil, use, cover, double, heat, place, food\n",
      "Dimension 14 is inversely about\t teaspoon, cut, tablespoon, sift, season, mix, small, chop, soda, parsley\n",
      "Dimension 15 is about\t\t brown, nn, cream, longhorn, cuttleﬁsh, flag, green, miner, geneva\n",
      "Dimension 15 is inversely about\t ming, teaspoon, cut, crabes, combine, nixtamal, pitcher, méringue, tablespoon, -water\n",
      "Dimension 16 is about\t\t green, add, white, beat, thin, stiff, cut, yolk, oil\n",
      "Dimension 16 is inversely about\t place, combine, serve, sprinkle, pour, dish, remove, cover, cook, seawater\n",
      "Dimension 17 is about\t\t heat, tablespoon, brown, reduce, remove, teaspoon, begin, side, preheat\n",
      "Dimension 17 is inversely about\t use, green, afb, ingredient, c., yield, several, serving, chill, need\n",
      "Dimension 18 is about\t\t heat, tablespoon, brown, teaspoon, ventilation, pattem, prod, fare, jefferson\n",
      "Dimension 18 is inversely about\t have, knead, combine, salt, smooth, abdomen, many, ok, tansy, chill\n",
      "Dimension 19 is about\t\t place, remove, preheat, reduce, side, serve, sprinkle, prepare, oven\n",
      "Dimension 19 is inversely about\t teaspoon, tablespoon, add, green, cup, dry, salt, oil, many, thin\n",
      "Dimension 20 is about\t\t untoasted, terre, disciple, toumedos, cod, flux, 11/2-inch, cigarette, carey\n",
      "Dimension 20 is inversely about\t soda, reduce, suzette, receiver, burmese, odds, opal, riva, nervous, trumpet\n",
      "Dimension 21 is about\t\t salt, brown, onion, combine, have, flour, ſmall, ſalt, diſh\n",
      "Dimension 21 is inversely about\t remove, side, stiff, heat, reduce, whip, place, yolk, saucepan, white\n",
      "Dimension 22 is about\t\t cut, brown, smooth, combine, blazer, hemp, °c, add, buzz\n",
      "Dimension 22 is inversely about\t place, repeat, taco, abate, sugarcane, albacore, tunny, shallow, mould, brazier\n",
      "Dimension 23 is about\t\t remove, begin, thicken, heat, boiler, cream, whip, yolk, spleen\n",
      "Dimension 23 is inversely about\t mix, ingredient, teaspoon, green, shorten, dry, sift, soda, cut, clove\n",
      "Dimension 24 is about\t\t combine, tablespoon, teaspoon, heat, reduce, cup, cornstarch, ππε, ingredient\n",
      "Dimension 24 is inversely about\t teaspoonful, solidify, preheat, cupful, cream, season, tablespoonful, sprinkle, use, zealand\n",
      "Dimension 25 is about\t\t cook, add, heat, stir, cream, thicken, double, méringue, chocolate\n",
      "Dimension 25 is inversely about\t teaspoon, combine, tablespoon, cup, baking, soda, ingredient, mix, powder, sift\n",
      "Dimension 26 is about\t\t palo, .¢, _\", cut, thy, 425°, teaspoon, nerve, wreath\n",
      "Dimension 26 is inversely about\t preheat, ness, cocer, jack, signature, pollo, ..l, marlow, oven, photographs\n",
      "Dimension 27 is about\t\t serve, combine, cream, yolk, packed, dehydrate, spud, labor, smooth\n",
      "Dimension 27 is inversely about\t add, water, brown, wrist, cut, shorten, piccadilly, soda, kc, derretida\n",
      "Dimension 28 is about\t\t combine, lay, serving, ſalt, diſh, comﬁts, pres, c., hindquarter\n",
      "Dimension 28 is inversely about\t place, remove, serve, teaspoon, season, tablespoon, juice, sprinkle, cup, squirt\n",
      "Dimension 29 is about\t\t persillade, preach, coon, jerez, skate, mourn, mansion, cottolene, \\_\n",
      "Dimension 29 is inversely about\t calm, prod, snuff, verduras, silverware, pawpaw, trattoria, poster, apprenticeship, château\n",
      "Dimension 30 is about\t\t serve, combine, smooth, preheat, saucepan, horseshoe, jefferson, batter, abalone\n",
      "Dimension 30 is inversely about\t cut, water, scout, cover, cook, sensual, add, smoked, op, have\n",
      "Dimension 31 is about\t\t tablespoon, thicken, a‘, posole, ladyﬁngers, skip, begin, heat, arable\n",
      "Dimension 31 is inversely about\t serve, \\(, piccadilly, teaspoonful, convulsion, grease, place, 325°, locality, gumdrop\n",
      "Dimension 32 is about\t\t reduce, saute, 7, calif, vanilla, white, deglaze, ﬂaming, ensalada\n",
      "Dimension 32 is inversely about\t place, maude, salmis, roll, knead, yeast, dough, -oz, forty, meeting\n",
      "Dimension 33 is about\t\t whip, chill, have, remove, serving, c., gelatin, cut, pres\n",
      "Dimension 33 is inversely about\t teaspoon, fare, dry, occasion, meet, use, tablespoon, cup, powder, occupy\n",
      "Dimension 34 is about\t\t smooth, sprinkle, c., preheat, warm, roll, let, dough, cutout\n",
      "Dimension 34 is inversely about\t add, cup, use, cook, water, teaspoon, juice, tablespoon, remove, sugar\n",
      "Dimension 35 is about\t\t tablespoon, cut, thin, teaspoon, smooth, roll, knead, dough, cornstarch\n",
      "Dimension 35 is inversely about\t preheat, reduce, oven, layer, pan, pour, saucepan, remove, uncover, bake\n",
      "Dimension 36 is about\t\t soup—consomme, cut, cup, franc, teaspoon, meat, beat, sensational, miles\n",
      "Dimension 36 is inversely about\t smooth, place, dallas, russians, remove, souﬂle, israeli, ware, est, lager\n",
      "Dimension 37 is about\t\t cut, combine, serving, remove, piece, yield, side, layer, owc\n",
      "Dimension 37 is inversely about\t smooth, tablespoon, add, stir, heat, milk, ravioli, use, quantity, saucepan\n",
      "Dimension 38 is about\t\t place, combine, measures, jellyfish, food, prepare, announce, lye, ★\n",
      "Dimension 38 is inversely about\t cut, add, teaspoonful, pawpaw, saute, beat, quahog, monopoly, unbuttered, scampi\n",
      "Dimension 39 is about\t\t tablespoon, teaspoon, cup, serve, noix, ner, water, juice, parking\n",
      "Dimension 39 is inversely about\t reduce, heat, odds, kabocha, californian, stir, bruno, cockle, shortcrust, clog\n",
      "Dimension 40 is about\t\t meat, add, shorten, use, water, soda, cut, more, algerian\n",
      "Dimension 40 is inversely about\t smooth, tablespoon, combine, stir, saucepan, serve, heat, preheat, saltspoon, have\n",
      "Dimension 41 is about\t\t add, stir, dough, ..', teaspoonful, rest, smooth, tablespoonful, yolk\n",
      "Dimension 41 is inversely about\t combine, teaspoon, cup, baking, brown, soda, meat, bruxelles, xxx, rognons\n",
      "Dimension 42 is about\t\t remove, place, serve, cook, sprinkle, side, whip, mixture, pan\n",
      "Dimension 42 is inversely about\t green, smooth, dry, fresh, let, ground, quart, knead, simmer, pacific\n",
      "Dimension 43 is about\t\t green, sprinkle, onion, let, ช.ต, salt, brown, dough, undisturbed\n",
      "Dimension 43 is inversely about\t reduce, remove, whip, heat, sprigs, thicken, ・・, ・, espagnole, pennyroyal\n",
      "Dimension 44 is about\t\t preheat, place, hojas, aberdeen, dodge, background, edgar, veſſel, deja\n",
      "Dimension 44 is inversely about\t tablespoon, minnie, cull, over, iran, teaspoon, cut, houghton, collard, pompadour\n",
      "Dimension 45 is about\t\t preheat, onion, green, mix, brown, wt, penny, let, put\n",
      "Dimension 45 is inversely about\t remove, whip, boiler, singular, use, leveret, thicken, sq, spritz, place\n",
      "Dimension 46 is about\t\t tablespoon, preheat, monster, heat, teaspoon, jewelry, stevens, bavaroise, trump\n",
      "Dimension 46 is inversely about\t combine, sticker, serving, colic, hydrate, dariole, grease, afb, patis, maionese\n",
      "Dimension 47 is about\t\t preheat, have, lay, bake, green, oven, brown, red, take\n",
      "Dimension 47 is inversely about\t serve, water, el, chill, cook, remove, gelatin, cold, occasion, dorado\n",
      "Dimension 48 is about\t\t tablespoon, yolk, serve, season, white, stiff, cream, side, heat\n",
      "Dimension 48 is inversely about\t combine, ingredient, cut, let, shorten, dough, many, grease, stand, mix\n",
      "Dimension 49 is about\t\t tablespoon, combine, teaspoon, cup, let, yeast, dough, elastic, water\n",
      "Dimension 49 is inversely about\t c., layer, teaspoonful, stiff, cream, pres, beat, white, owc, tablespoonful\n",
      "Dimension 50 is about\t\t chill, combine, serve, smooth, thicken, dough, teaspoonful, whip, elastic\n",
      "Dimension 50 is inversely about\t teaspoon, reduce, dry, baking, heat, sift, powder, budapest, cape, pound\n",
      "Dimension 51 is about\t\t cyder, smooth, secos, reuse, combine, baking, powder, typhoid, tx\n",
      "Dimension 51 is inversely about\t cook, remove, tablespoon, water, boiler, heat, ช.ต, add, pillar, outfit\n",
      "Dimension 52 is about\t\t combine, smooth, sprinkle, preheat, teacupful, bowl, stewpan, hamlet, toss\n",
      "Dimension 52 is inversely about\t remove, water, cup, add, meat, cook, use, place, boil, joint\n",
      "Dimension 53 is about\t\t pier, inflame, fo, borden, rl, μο, 500g, oceanside, scurvy\n",
      "Dimension 53 is inversely about\t fraction, noyau, tue, q“, 1960, sweetbread, ii‘, accentuate, cynthia, pavement\n",
      "Dimension 54 is about\t\t preheat, combine, clock, mix, poulet, -|, green, confetti, tournedos\n",
      "Dimension 54 is inversely about\t cut, begin, stiff, roes, thin, thicken, rican, chamois, fog, cutout\n",
      "Dimension 55 is about\t\t tablespoon, heat, side, cut, pow, ness, lay, gardner, jolla\n",
      "Dimension 55 is inversely about\t use, teaspoonful, hongos, many, green, fresh, dry, vegetable, tablespoonful, lamb\n",
      "Dimension 56 is about\t\t tablespoon, teaspoon, combine, cut, roll, cup, sprinkle, spore, т\n",
      "Dimension 56 is inversely about\t use, stiff, teaspoonful, tablespoonful, taiwan, white, cupful, p.o., preheat, bosom\n",
      "Dimension 57 is about\t\t layer, whip, yolk, brimstone, clayton, brown, cook, rock, fold\n",
      "Dimension 57 is inversely about\t teaspoon, chevreuil, soda, hip, nick, fo, salmis, water, crayfish, sherman\n",
      "Dimension 58 is about\t\t have, be, water, other, use, boil, little, put, cut\n",
      "Dimension 58 is inversely about\t ghirardelli, combine, angelo, pla, milwaukee, sanitarium, sambal, sonoma, kabocha, phone\n",
      "Dimension 59 is about\t\t place, tablespoon, cover, remove, wentworth, tn, teaspoon, inadequate, 3-ounce\n",
      "Dimension 59 is inversely about\t use, cheong, many, synthetic, ingredient, stewpan, amarillo, jellyfish, file, ford\n",
      "Dimension 60 is about\t\t cut, thin, _a, risk, successive, composition, lever, vain, hake\n",
      "Dimension 60 is inversely about\t place, spout, bruno, challah, academy, flood, quartern, chuſe, gai, whiteﬁsh\n",
      "Dimension 61 is about\t\t cut, cerdo, tibetan, rosh, pompadour, spinal, roll, thin, scruple\n",
      "Dimension 61 is inversely about\t preheat, austerity, grit, williamsburg, 1st, dau, pepsin, apulia, defrost, temper\n",
      "Dimension 62 is about\t\t combine, side, honour, commissary, slake, curtis, wineglassful, pper, cut\n",
      "Dimension 62 is inversely about\t add, milk, cook, spearmint, meuniére, yolk, denote, connect, meuniere, tablespoon\n",
      "Dimension 63 is about\t\t remove, นาท, preheat, jintan, nm, drench, mendocino, heal, dentist\n",
      "Dimension 63 is inversely about\t have, chiles, tt, jewelry, bond, karo, 60, coralline, vegetal, gloucester\n",
      "Dimension 64 is about\t\t chamberlain, gallo, reduce, presoaked, pekoe, afs, heat, sardinia, tea-ſpoonful\n",
      "Dimension 64 is inversely about\t combine, serve, tablespoon, cup, teaspoon, milk, sardine, а, smooth, algae\n",
      "Dimension 65 is about\t\t reduce, combine, preheat, grille, remove, saucepan, rioja, scholarly, chamberlain\n",
      "Dimension 65 is inversely about\t green, cut, thin, chesapeake, roll, sushi, pierre, look, cutter, junk\n",
      "Dimension 66 is about\t\t teaspoon, tablespoon, cup, onion, green, chop, pound, clove, diſh\n",
      "Dimension 66 is inversely about\t saucepan, c., place, pour, boil, owc, smooth, remove, yield, afb\n",
      "Dimension 67 is about\t\t combine, reduce, 350, preheat, wlth, disciple, hire, sieve, mix\n",
      "Dimension 67 is inversely about\t water, double, wreath, cook, use, add, salt, harm, yeast, imagination\n",
      "Dimension 68 is about\t\t cook, reduce, thicken, dancer, necessary, heat, lindsay, sprigs, vanilla\n",
      "Dimension 68 is inversely about\t green, sprinkle, tasmanian, nib, tablespoon, cemetery, interview, knead, trench, kathryn\n",
      "Dimension 69 is about\t\t combine, remain, tablespoon, smooth, let, onion, salt, teaspoon, debris\n",
      "Dimension 69 is inversely about\t cook, ππε, stiff, use, whip, ﬁlberts, meat, thin, white, beat\n",
      "Dimension 70 is about\t\t combine, preheat, reduce, baking, remain, pan, brown, pour, pregnancy\n",
      "Dimension 70 is inversely about\t water, smooth, add, use, cook, tablespoon, cold, dough, double, boiler\n",
      "Dimension 71 is about\t\t stir, smooth, thicken, use, heat, cocoon, symi, malt, beige\n",
      "Dimension 71 is inversely about\t place, sprinkle, preheat, cover, bake, lager, oven, let, wholemeal, burgess\n",
      "Dimension 72 is about\t\t soba, smooth, dough, gumdrop, sardinia, treasury, knead, ultramarine, warrant\n",
      "Dimension 72 is inversely about\t remove, only, shanks, obtainable, weekday, noise, codling, profusion, /2-inch, tab\n",
      "Dimension 73 is about\t\t preheat, place, heat, remove, use, side, combine, dough, surface\n",
      "Dimension 73 is inversely about\t boil, pour, beat, add, put, yolk, little, cream, pint, cold\n",
      "Dimension 74 is about\t\t use, brown, c., cook, juice, meat, appellation, many, crest\n",
      "Dimension 74 is inversely about\t tablespoon, teaspoon, stir, heat, cup, cut, cornstarch, edgar, soy, goddess\n",
      "Dimension 75 is about\t\t preheat, combine, heat, remain, saucepan, reduce, boil, simmer, prohibition\n",
      "Dimension 75 is inversely about\t cut, thin, use, cook, roll, sal, mehl, vila, other, hasta\n"
     ]
    },
    {
     "name": "stdout",
     "output_type": "stream",
     "text": [
      "Dimension 76 is about\t\t place, ft, piedmont, remove, warm, 60g, distributed, lucia, let\n",
      "Dimension 76 is inversely about\t have, mulberry, lndian, catarrh, fur, patna, urn, carob, nugget, dam\n",
      "Dimension 77 is about\t\t preheat, yolk, sprinkle, cream, cheese, grate, sole, crumb, layer\n",
      "Dimension 77 is inversely about\t teaspoon, cup, tablespoon, shorten, cut, word, combine, sift, soda, knob\n",
      "Dimension 78 is about\t\t tablespoon, teaspoon, heat, thicken, cornstarch, brown, debone, muller, stir\n",
      "Dimension 78 is inversely about\t green, cream, preheat, teaspoonful, serve, white, cupful, nippy, use, cheese\n",
      "Dimension 79 is about\t\t cream, yolk, thicken, beat, whip, heavy, arc, combine, heat\n",
      "Dimension 79 is inversely about\t place, let, water, yeast, rise, lukewarm, cover, knead, dough, stand\n",
      "Dimension 80 is about\t\t buzz, c., appendix, global, combine, birch, alta, yield, pav\n",
      "Dimension 80 is inversely about\t tablespoon, teaspoon, cup, hemp, inadequate, albacore, omelet, cumberland, cookies., agregue\n",
      "Dimension 81 is about\t\t reduce, heat, cook, preheat, teaspoon, tablespoon, diſh, ſalt, pan\n",
      "Dimension 81 is inversely about\t thin, cut, roll, green, sprinkle, dough, strip, slice, mix, knead\n",
      "Dimension 82 is about\t\t sprinkle, combine, cut, place, serve, pomona, season, sander, remove\n",
      "Dimension 82 is inversely about\t add, tablespoon, stir, =1, subgum, water, heat, choux, cruse, doug\n",
      "Dimension 83 is about\t\t combine, serve, tablespoon, have, fresh, teaspoon, cup, use, dry\n",
      "Dimension 83 is inversely about\t remove, cut, place, cover, owc, brown, begin, reduce, overhang, side\n",
      "Dimension 84 is about\t\t stir, heat, cornstarch, wok, thicken, smooth, soy, cut, mixture\n",
      "Dimension 84 is inversely about\t place, ripe, baking, kurt, pouding, cover, salt, season, preheat, use\n",
      "Dimension 85 is about\t\t cook, ketchup, mantle, whittier, ganache, comida, torch, d'estournel, wafer\n",
      "Dimension 85 is inversely about\t teaspoon, cut, powder, tight-ﬁtt, soda, cup, parafﬁn, brazil, sift, pete\n",
      "Dimension 86 is about\t\t remove, cut, preheat, brown, combine, sugar, cup, juice, teaspoon\n",
      "Dimension 86 is inversely about\t smooth, knead, dough, lukewarm, rise, yeast, salt, milk, ππε, cremini\n",
      "Dimension 87 is about\t\t remove, have, water, scallopini, try, croaker, cook, ber, luxuriant\n",
      "Dimension 87 is inversely about\t smooth, reduce, flaxseed, rectangle, simmer, gifted, platina, arroz, colonist, ช.ต\n",
      "Dimension 88 is about\t\t place, double, serve, water, boiler, juice, cook, tablespoon, salt\n",
      "Dimension 88 is inversely about\t reduce, heat, sift, saucepan, stir, powder, combine, dry, ingredient, stewpan\n",
      "Dimension 89 is about\t\t cook, add, use, thicken, stir, water, stiff, crow, boiler\n",
      "Dimension 89 is inversely about\t preheat, combine, teaspoon, baking, remain, sprinkle, place, adobe, wines, season\n",
      "Dimension 90 is about\t\t ★, ibs, pollock, rissole, ad, otto, heir, many, cone\n",
      "Dimension 90 is inversely about\t soba, loire, poivrade, ailment, allen, yoghourt, wine, intent, jamaican, filbert\n",
      "Dimension 91 is about\t\t place, cook, occasion, use, green, fare, morning, oven, cover\n",
      "Dimension 91 is inversely about\t combine, thicken, stir, smooth, cornstarch, remain, pour, heat, mixture, ﬁre\n",
      "Dimension 92 is about\t\t combine, heat, preheat, oh, teal, remove, pan, ſalt, place\n",
      "Dimension 92 is inversely about\t green, thin, teaspoonful, ]uice, small, gunpowder, murray, chuſe, peat, norwegian\n",
      "Dimension 93 is about\t\t teaspoon, cup, cut, soda, sift, other, baking, powder, remove\n",
      "Dimension 93 is inversely about\t smooth, stir, thicken, sq, keg, heat, moulds, longhorn, spud, fireless\n",
      "Dimension 94 is about\t\t put, cut, boil, little, season, take, lay, piece, let\n",
      "Dimension 94 is inversely about\t cup, beat, combine, teaspoon, milk, have, baking, sugar, tablespoon, add\n",
      "Dimension 95 is about\t\t teaspoon, tablespoon, remove, place, cup, folk, kabocha, p, commerce\n",
      "Dimension 95 is inversely about\t brown, preheat, have, c., fritters., pour, put, biscuit, quickie, cream\n",
      "Dimension 96 is about\t\t baltimore, woody, chevalier, bolognese, sprinkle, arabia, studio, printanier, dredge\n",
      "Dimension 96 is inversely about\t teaspoon, ewe, potage, edwards, kenya, cup, moat, refreeze, alustiza, eucalyptus\n",
      "Dimension 97 is about\t\t smooth, birch, knead, โ, dough, chevreuil, calomel, guaiacum, in\n",
      "Dimension 97 is inversely about\t layer, bake, sous, morilles, brown, st., shrub, poker, shrine, threat\n",
      "Dimension 98 is about\t\t brown, smooth, stir, teaspoonful, exposition, winemaker, tablespoonful, preheat, quartern\n",
      "Dimension 98 is inversely about\t cup, teaspoon, juice, water, tablespoon, chill, boil, calcareous, combine, suburban\n",
      "Dimension 99 is about\t\t place, vins, ♦, genesis, imperial/metric, glacee, bb, pun, diver\n",
      "Dimension 99 is inversely about\t combine, heat, palais, austerity, mixture, stir, wineglassful, cuttlefish, flautas, have\n",
      "Dimension 100 is about\t\t heat, stir, cook, have, time, acapulco, tablespoon, use, heated\n",
      "Dimension 100 is inversely about\t cut, place, prisoner, dough, roll, round, remove, small, yunnan, ripens\n",
      "Dimension 101 is about\t\t cut, ramen, rigid, leamed, ſauce, dorado, ©, oh, poires\n",
      "Dimension 101 is inversely about\t tablespoon, smooth, teaspoon, combine, reuse, castile, pomatum, denis, bisque, 7th\n",
      "Dimension 102 is about\t\t water, add, eclair, cook, boil, heat, smooth, till, grave\n",
      "Dimension 102 is inversely about\t mix, isaac, piña, cauldron, cut, havana, serve, industrial, villager, powder\n",
      "Dimension 103 is about\t\t 1(, 8c, yoghourt, sommelier, fetch, leam, morrow, mahi, kumara\n",
      "Dimension 103 is inversely about\t rent, commissary, parker, snap, edgar, wrapper, backwards, photographer, awake, barm\n",
      "Dimension 104 is about\t\t dome, preheat, 1960, tour, ramen, veloute, boot, careme, pawpaw\n",
      "Dimension 104 is inversely about\t heat, water, remove, tablespoon, begin, add, cornstarch, cement, kerr, _n\n",
      "Dimension 105 is about\t\t tablespoon, teaspoon, reduce, combine, cup, qlb, remove, globe, biological\n",
      "Dimension 105 is inversely about\t cook, c., need, use, meat, food, milk, fare, amount, с\n",
      "Dimension 106 is about\t\t cut, remove, brown, teaspoon, place, sprinkle, thin, tablespoon, roll\n",
      "Dimension 106 is inversely about\t reduce, stir, heat, smooth, -ounce, taipei, cyder, saucepan, whisk, espagnole\n",
      "Dimension 107 is about\t\t preheat, hf, combine, pueden, mix, lox, puﬂ, fricandeau, adobo\n",
      "Dimension 107 is inversely about\t cut, tablespoon, soup—consomme, diver, 283, thin, chiang, milligram, alentejo, v.\n",
      "Dimension 108 is about\t\t place, serve, sprinkle, remove, preheat, veloute, spasm, noisettes, pattem\n",
      "Dimension 108 is inversely about\t tablespoon, teaspoon, add, cornstarch, have, begin, soy, cup, genesis, tortoni\n",
      "Dimension 109 is about\t\t cut, salt, season, thin, mix, lengthwise, glycogen, o¿, remove\n",
      "Dimension 109 is inversely about\t cook, combine, reduce, heat, peppery, brown, simmer, pc, meat, derretida\n",
      "Dimension 110 is about\t\t smooth, preheat, heat, reduce, cheese., remain, harissa, saucepan, stir\n",
      "Dimension 110 is inversely about\t cut, teaspoon, cup, salt, thin, ​ク, hurt, shorten, ascorbic, patés\n",
      "Dimension 111 is about\t\t cut, serve, teaspoon, remove, season, tablespoon, grenadins, poi, bocuse\n",
      "Dimension 111 is inversely about\t water, c., boil, cover, let, more, pincer, cook, flue, dodge\n",
      "Dimension 112 is about\t\t knead, teaspoonful, tablespoonful, rise, salt, dough, yeast, tunny, c.\n",
      "Dimension 112 is inversely about\t cook, heat, reduce, tablespoon, remove, beat, yolk, defective, cup, vanilla\n",
      "Dimension 113 is about\t\t tablespoon, teaspoon, add, cup, salt, let, reckon, chayotes, cover\n",
      "Dimension 113 is inversely about\t combine, use, thicken, mixture, c., lindsay, conservative, cassis, achiote, jr\n",
      "Dimension 114 is about\t\t serviceable, cummin, sagwa, genoise, g’d, a, orchestra, luke, ulcer\n",
      "Dimension 114 is inversely about\t kugelhopf, raiﬁns, timbale, couple, ihem, lease, poulet, mum, payne, attraction\n",
      "Dimension 115 is about\t\t ฉ, remove, 1o, lox, carnitas, bratwurst, slush, cathedral, génoise\n",
      "Dimension 115 is inversely about\t smooth, burke, confucius, /~, brassica, teaspoonful, dough, agent, green, hilda\n",
      "Dimension 116 is about\t\t yolk, heat, reduce, add, white, remove, cornish, stiff, glacé\n",
      "Dimension 116 is inversely about\t roll, baking, pralin, let, soda, winegar, dough, grease, cut, primary\n",
      "Dimension 117 is about\t\t dough, poulet, many, salt, vl, sal, knead, add, rise\n",
      "Dimension 117 is inversely about\t brown, heat, marlee, side, council, over, memorial, @, clark, retort\n",
      "Dimension 118 is about\t\t combine, preheat, brown, sprinkle, cover, serving, pour, remain, yield\n",
      "Dimension 118 is inversely about\t tablespoon, teaspoon, water, add, cold, cup, sesame, blueﬁsh, agregue, thin\n",
      "Dimension 119 is about\t\t cut, round, butter, side, brown, bake, beat, oven, baking\n",
      "Dimension 119 is inversely about\t water, boil, let, bring, quart, dissolve, heat, add, stand, stir\n",
      "Dimension 120 is about\t\t boletus, ]ohn, brown, carter, -|, cantidad, 1(, sauerbraten, fiſh\n",
      "Dimension 120 is inversely about\t plug, 204, mizuna, l2, ah, rattlesnake, excel, islands, loganberry, tomate\n",
      "Dimension 121 is about\t\t teaspoon, tablespoon, preheat, cup, remove, reduce, sift, powder, heat\n",
      "Dimension 121 is inversely about\t smooth, knead, roll, place, dough, rise, double, serve, lukewarm, yeast\n",
      "Dimension 122 is about\t\t guatemala, ’n, argentine, sift, 、, saltpetre, baking, have, combine\n",
      "Dimension 122 is inversely about\t smooth, connective, vin, o'shea, imbibe, reduce, tablespoon, „, paddle, dough\n",
      "Dimension 123 is about\t\t serve, many, dixon, use, place, juice, cook, gamish, %pt\n",
      "Dimension 123 is inversely about\t brown, marlee, wine, boi, touraine, romanoff, chenin, next, aaaaa, raphael\n",
      "Dimension 124 is about\t\t combine, cup, meat, brown, cover, juice, ſalt, boil, diſh\n",
      "Dimension 124 is inversely about\t remove, teaspoonful, place, cupful, oil, season, tablespoonful, smooth, wok, mix\n",
      "Dimension 125 is about\t\t have, shirley, .v, adjective, capillary, crowded, brown, peches, bicycle\n",
      "Dimension 125 is inversely about\t university, lease, pennyroyal, boil, verduras, schmidt, clayey, mil, hone, maíz\n",
      "Dimension 126 is about\t\t brown, onion, calif, trait, smooth, neighbourhood, meat, sheila, solidity\n",
      "Dimension 126 is inversely about\t teaspoon, tablespoon, remove, jamaican, harrow, discolour, quesadilla, conti, espresso, loz\n",
      "Dimension 127 is about\t\t cook, use, szechwan, yolk, beat, fireplace, stiff, pesce, residual\n",
      "Dimension 127 is inversely about\t engrave, malaya, teaspoon, columbus, mix, limestone, accessible, combine, bushel, dilly\n",
      "Dimension 128 is about\t\t green, place, next, have, let, enough, roll, onion, cut\n",
      "Dimension 128 is inversely about\t yolk, serve, stir, heat, thicken, saucepan, season, beat, brasserie, teaspoonfnl\n",
      "Dimension 129 is about\t\t cup, cut, remove, add, teaspoon, tablespoon, juice, bowls, water\n",
      "Dimension 129 is inversely about\t brown, sprinkle, courgette, c., preheat, crumb, lib, have, limestone, cheese\n",
      "Dimension 130 is about\t\t cut, remove, thin, side, powder, pattem, pregnancy, lengthwise, beat\n",
      "Dimension 130 is inversely about\t water, let, smooth, yeast, boil, knead, rise, combine, double, dough\n",
      "Dimension 131 is about\t\t remove, place, tablespoon, serve, teaspoon, juice, pigeonneaux, sautoire, sopaipillas\n",
      "Dimension 131 is inversely about\t smooth, many, use, beat, teaspoonful, tb., mincer, minnie, scott, bulbous\n",
      "Dimension 132 is about\t\t combine, green, ingredient, let, masa, thomson, finland, knead, radio\n",
      "Dimension 132 is inversely about\t remove, cut, zippy, yuma, brown, whip, sts, epicurean, marron, have\n",
      "Dimension 133 is about\t\t use, remove, water, add, quart, boil, fresh, dry, green\n",
      "Dimension 133 is inversely about\t have, pkg, brown, cgowc, roll, side, c., owc, serving, pres\n",
      "Dimension 134 is about\t\t use, cup, teaspoon, tablespoon, milk, cook, serve, add, boiler\n",
      "Dimension 134 is inversely about\t c., preheat, yield, combine, lay, owc, let, remain, serving, take\n",
      "Dimension 135 is about\t\t combine, serve, sprinkle, juice, cup, crumb, cheese, lodging, sac\n",
      "Dimension 135 is inversely about\t heat, reduce, add, stir, continue, pollock, remove, wok, beaumont, borage\n",
      "Dimension 136 is about\t\t combine, cover, ah, minnie, refrigeration, double, saucepan, op, reduce\n",
      "Dimension 136 is inversely about\t teaspoon, tablespoon, centro, elderberry, fowler, josephine, xi, green, quahog, smithfield\n",
      "Dimension 137 is about\t\t onion, salt, green, add, chop, brown, pepper, cook, season\n",
      "Dimension 137 is inversely about\t let, bowl, preheat, place, side, have, cool, remove, set, roll\n",
      "Dimension 138 is about\t\t smooth, tablespoon, cook, thicken, yolk, boiler, heat, double, mesquite\n",
      "Dimension 138 is inversely about\t soda, green, brown, baking, have, cut, shorten, nuts, sucker, sift\n",
      "Dimension 139 is about\t\t place, remove, soufﬂe, water, .i., toumedos, reflection, glen, rice.\n",
      "Dimension 139 is inversely about\t reduce, يه, filbert, gamish, jeff, veneto, concombres, enzyme, swede, oliver\n",
      "Dimension 140 is about\t\t remove, heat, fare, water, meet, occasion, pan, occupy, boil\n",
      "Dimension 140 is inversely about\t serve, grate, chop, combine, juice, many, mayonnaise, cheese, chill, season\n",
      "Dimension 141 is about\t\t add, salt, serve, cup, brown, cut, remove, tablespoon, pour\n",
      "Dimension 141 is inversely about\t have, be, many, know, other, give, food, find, most, others\n",
      "Dimension 142 is about\t\t cook, meet, necessary, fare, occasion, place, double, cover, salt\n",
      "Dimension 142 is inversely about\t pour, have, curtis, fried, cocido, tazas, serve, starvation, ginger, trait\n",
      "Dimension 143 is about\t\t cook, serve, onion, have, tablespoon, heat, season, simmer, remove\n",
      "Dimension 143 is inversely about\t beat, sift, baking, sugar, bake, milk, soda, mix, stiff, grease\n",
      "Dimension 144 is about\t\t marlow, have, coon, processing, mouton, wrist, buttercream, tractor, smooth\n",
      "Dimension 144 is inversely about\t cut, brazilian, vacant, stir—fry, irrigation, masticate, bamboo, other, rancher, thin\n",
      "Dimension 145 is about\t\t brown, preheat, cruel, couverture, little, dakota, take, put, season\n",
      "Dimension 145 is inversely about\t place, water, use, combine, meredith, teaspoon, juice, cup, depend, chill\n",
      "Dimension 146 is about\t\t water, cook, remove, add, cut, cover, boil, place, let\n",
      "Dimension 146 is inversely about\t combine, preheat, serve, reduce, cream, breadcrumb, mix, grate, teaspoon, unsalted\n",
      "Dimension 147 is about\t\t have, cut, layer, remove, sprinkle, look, side, warehouse, pollution\n",
      "Dimension 147 is inversely about\t knead, food, dough, monotonous, warm, antiquity, aji, yeast, fa, lukewarm\n",
      "Dimension 148 is about\t\t remove, preheat, let, cut, peel, water, stand, boil, combine\n",
      "Dimension 148 is inversely about\t cook, brown, milk, thicken, butter, add, boiler, tablespoon, yolk, beat\n",
      "Dimension 149 is about\t\t kikkoman, fred, background, cleveland, cut, partial, sift, steer, levine\n",
      "Dimension 149 is inversely about\t preheat, kinugoshi, pillar, inadequate, sp, epicurean, perfume, commissary, sundae, luau\n",
      "Dimension 150 is about\t\t have, brown, raisin, cover, elderberry, pomona, bake, cinnamon, bivalve\n",
      "Dimension 150 is inversely about\t smooth, yolk, thicken, stir, beat, white, heat, paisley, carpet, °c\n",
      "Dimension 151 is about\t\t sprinkle, place, preheat, side, remain, season, oven, cheese, butter\n",
      "Dimension 151 is inversely about\t use, cook, water, food, boil, add, amount, many, vegetable, need\n"
     ]
    },
    {
     "name": "stdout",
     "output_type": "stream",
     "text": [
      "Dimension 152 is about\t\t preheat, place, grave, always, pone, ;§, sopaipillas, let, manicotti\n",
      "Dimension 152 is inversely about\t have, garniture, mush, fla, poele, val, shakespeare, peapods, suspension, gritty\n",
      "Dimension 153 is about\t\t teaspoon, tablespoon, juice, cup, lemon, striped, stuart, escort, fever\n",
      "Dimension 153 is inversely about\t smooth, cook, pomerol, thicken, milk, use, gun, pub, swede, prik\n",
      "Dimension 154 is about\t\t teaspoon, cup, cut, tablespoon, have, juice, posole, ignorance, meat\n",
      "Dimension 154 is inversely about\t smooth, greengage, preheat, c., heat, malaga, stir, jalapeño, pompadour, southerner\n",
      "Dimension 155 is about\t\t serve, combine, sq, cook, side, .v, cut, immune, wehlener\n",
      "Dimension 155 is inversely about\t add, have, l-, chaud, shrimps, dry, medieval, teaspoon, о, tablespoon\n",
      "Dimension 156 is about\t\t reduce, cream, whip, yolk, thicken, sweeten, jerk, stiff, 1-\n",
      "Dimension 156 is inversely about\t teaspoon, tablespoon, brown, cut, cup, soda, dry, baking, salt, sift\n",
      "Dimension 157 is about\t\t tablespoon, oil, idaho, wok, mix, soy, daikon, pero, occasion\n",
      "Dimension 157 is inversely about\t peach, boil, tablespoonful, lebanese, mochi, water, whip, mold, unﬂavored, prefer\n",
      "Dimension 158 is about\t\t use, juice, serve, soda, squirt, cook, cut, small, several\n",
      "Dimension 158 is inversely about\t smooth, heat, stir, begin, thicken, remain, combine, let, high, cornstarch\n",
      "Dimension 159 is about\t\t have, green, periwinkle, layer, overﬂowing, knee, nevada, cut, altar\n",
      "Dimension 159 is inversely about\t combine, heat, stir, dresser, farinaceous, souffle., mixture, saucepan, serve, tangle\n",
      "Dimension 160 is about\t\t c., have, depot, brown, yield, continue, feu, preheat, gild\n",
      "Dimension 160 is inversely about\t teaspoon, tablespoon, cup, water, use, fresh, algae, coﬂee, tartelettes, meredith\n",
      "Dimension 161 is about\t\t brown, serving, combine, have, yield, cook, c., pres, afb\n",
      "Dimension 161 is inversely about\t serve, tablespoon, small, teaspoon, juice, fresh, lemon, white, foothill, knead\n",
      "Dimension 162 is about\t\t combine, brown, occasion, meet, fare, ingredient, smooth, roll, occupy\n",
      "Dimension 162 is inversely about\t remove, stiff, __., latte, 14-oz, xx, broche, yolk, marmalade., asiago\n",
      "Dimension 163 is about\t\t remove, place, water, jews, boil, teaspoon, squirt, odour, 8c\n",
      "Dimension 163 is inversely about\t moor, combine, ﬁlo, symbolize, harness, ulcer, curtis, smooth, little, sucre\n",
      "Dimension 164 is about\t\t combine, serving, remain, thicken, pouding, aluminium, yield, saccharometer, rutabaga\n",
      "Dimension 164 is inversely about\t use, fare, occasion, dry, meet, ponga, stow, saba, teaspoon, food\n",
      "Dimension 165 is about\t\t cream, layer, preheat, bake, time, oven, pour, whip, several\n",
      "Dimension 165 is inversely about\t smooth, tablespoon, cut, teaspoon, thin, knead, ſmall, roll, recommendation, dough\n",
      "Dimension 166 is about\t\t cook, pasture, jefferson, vinous, glacee, admission, fraction, wehlener, cake(\n",
      "Dimension 166 is inversely about\t cut, spasm, hayes, lan, baller, !ε, mood, appreciable, riley, green\n",
      "Dimension 167 is about\t\t combine, tablespoon, teaspoon, plot, omelette, levadura, arborio, ana, remain\n",
      "Dimension 167 is inversely about\t add, remove, use, elder, preheat, payne, white, place, soup, cream\n",
      "Dimension 168 is about\t\t 3s, carnation, confucius, ﬁber, lengthways, pluck, canner, burton, cigarette\n",
      "Dimension 168 is inversely about\t umbrella, belgian, brown, sts, diſſolve, hibachi, las, explosion, orchestra, fraction\n",
      "Dimension 169 is about\t\t smooth, c., dough, double, rise, cook, roll, water, cream\n",
      "Dimension 169 is inversely about\t teaspoon, tablespoon, cup, baking, powder, preheat, pow, -water, soda, sift\n",
      "Dimension 170 is about\t\t soup—consomme, bavaroise, barr, pattem, rice., parrot, cambodian, maxwell, stiff\n",
      "Dimension 170 is inversely about\t castle, raja, willow, marron, southerner, rican, …, resin, grease, ond\n",
      "Dimension 171 is about\t\t tablespoon, cornstarch, teaspoon, occasion, heat, soy, thin, basmati, sherry\n",
      "Dimension 171 is inversely about\t preheat, many, have, fruit, juice, butternut, embellishment, riz, corp., marking\n",
      "Dimension 172 is about\t\t brown, baking, ﬂour, milk, oven, flour, soda, sift, butter\n",
      "Dimension 172 is inversely about\t combine, chill, juice, green, whip, gelatin, serve, lemon, cream, mayonnaise\n",
      "Dimension 173 is about\t\t green, sting, chapel, sierra, jew, wakame, faber, perigord, spinal\n",
      "Dimension 173 is inversely about\t mian, stilton, flip, bui, saké, sk, purplish, diner, wiener, rural\n",
      "Dimension 174 is about\t\t brown, w2, bologna, water, toffee, let, \\vater, shrimps, serving\n",
      "Dimension 174 is inversely about\t reduce, glacee, masala, shiraz, tx, flavouring, sans, growth, olney, ๐\n",
      "Dimension 175 is about\t\t use, smooth, teaspoonful, patisserie, barrack, stir, ptarmigan, supersede, georgia\n",
      "Dimension 175 is inversely about\t place, sprinkle, remove, coral, cup, cut, expedition, cover, serve, teaspoon\n",
      "Dimension 176 is about\t\t dry, have, heat, stir, oil, many, preheat, green, portsmouth\n",
      "Dimension 176 is inversely about\t serve, whip, place, cream, juice, chill, thorn, extraneous, cut, season\n",
      "Dimension 177 is about\t\t tablespoon, teaspoon, smooth, heat, beat, white, cornstarch, dry, stir\n",
      "Dimension 177 is inversely about\t serve, juice, combine, sprinkle, fruit, place, chill, lemon, pour, boil\n",
      "Dimension 178 is about\t\t teaspoon, sift, dry, brown, soy, soda, cornstarch, sesame, shorten\n",
      "Dimension 178 is inversely about\t have, place, smooth, preheat, cream, cheese, season, tablespoonful, serve, juice\n",
      "Dimension 179 is about\t\t use, cook, reduce, have, prepare, juice, serve, hansen, smooth\n",
      "Dimension 179 is inversely about\t cut, remove, roosevelt, salt, outfit, breton, sprinkle, insect, beat, forego\n",
      "Dimension 180 is about\t\t cut, combine, place, teaspoon, board, certo, behaviour, countess, sweetener\n",
      "Dimension 180 is inversely about\t preheat, \\/, pilau, begin, pronunciation, decorator, oven, grate, beat, quenelles\n",
      "Dimension 181 is about\t\t cook, place, smooth, occasion, fare, meet, bulk, dough, squce\n",
      "Dimension 181 is inversely about\t combine, teaspoon, tablespoon, cup, trey, oil, soda, take, claudia, raita\n",
      "Dimension 182 is about\t\t green, combine, teaspoonful, riſes, liquorice, fair, mix, steamed, ingredient\n",
      "Dimension 182 is inversely about\t add, remove, heat, water, cook, continue, papillote, weigh, careme, oh\n",
      "Dimension 183 is about\t\t visual, penn, buddha, melitta, distract, lunchtime, combine, saxon, sa\n",
      "Dimension 183 is inversely about\t dodge, vichy, )4, pow, cycle, ■, parisian, beak, bridge, kippur\n",
      "Dimension 184 is about\t\t reduce, heat, add, simmer, continue, vanilla, cook, c., beat\n",
      "Dimension 184 is inversely about\t place, tablespoon, serve, combine, smooth, let, yeast, rise, teaspoon, knead\n",
      "Dimension 185 is about\t\t 3d, conti, bodegas, pareve, remove, mesh, teaspoon, galette, theme\n",
      "Dimension 185 is inversely about\t cook, noix, casein, bocuse, pesce, havana, squce, italians, asset, coloque\n",
      "Dimension 186 is about\t\t have, combine, place, sprinkle, serve, cheese, exclusive, oeufs, salt\n",
      "Dimension 186 is inversely about\t use, other, add, beat, stir, water, high, cut, scholar, reynella\n",
      "Dimension 187 is about\t\t nasturtium, por, agregar, programme, bien, que, yemas, otto, verb\n",
      "Dimension 187 is inversely about\t glassware, zinfandel, textile, sweetener, chelsea, .v, mesquite, cleaning, canister, queso\n",
      "Dimension 188 is about\t\t combine, sp, pluck, collins, château, potage, tablespoon, let, teaspoon\n",
      "Dimension 188 is inversely about\t cook, bocuse, cupful, chee¿e, oa, platina, bragg, serve, elaine, ié\n",
      "Dimension 189 is about\t\t tablespoon, opposite, gang, coil, ππε, recipient, osborne, fricasee, honesty\n",
      "Dimension 189 is inversely about\t sediment, tolerance, papillotes, c., potage, fountain, radicchio, mixer, rossini, highball\n",
      "Dimension 190 is about\t\t brown, combine, oven, have, preheat, cook, guinness, bake, heather\n",
      "Dimension 190 is inversely about\t smooth, add, yolk, season, pinion, beat, stiff, amalgam, tamari, knead\n",
      "Dimension 191 is about\t\t cook, c., heat, diſh, stir, wc, nas, add, cutlery\n",
      "Dimension 191 is inversely about\t teaspoon, tablespoon, cup, kendrick, latte, ashley, coil, razor, tropp, _a\n",
      "Dimension 192 is about\t\t veloute, ษ, herr, patriotic, hasty, moroccan, ragged, cut, artistic\n",
      "Dimension 192 is inversely about\t film, ﬁlet, yorkshire, borden, ching, debbie, snuff, _h, poner, exposition\n",
      "Dimension 193 is about\t\t preheat, heat, toumedos, reduce, combine, pan, meter, lj, preston\n",
      "Dimension 193 is inversely about\t conserva, opposite, walpole, place, friendship, brilliancy, hydrate, farcies, bearded, papel\n",
      "Dimension 194 is about\t\t teaspoon, cup, tablespoon, cook, serve, aceite, todo, other, gang\n",
      "Dimension 194 is inversely about\t smooth, let, place, dough, rise, cover, yeast, knead, c., lukewarm\n",
      "Dimension 195 is about\t\t combine, let, remove, water, boil, place, pour, stand, cranberry\n",
      "Dimension 195 is inversely about\t yolk, season, cream, cook, white, parsley, add, sulphurous, serve, commissary\n",
      "Dimension 196 is about\t\t juice, many, peel, soda, baking, cup, teaspoon, ripe, have\n",
      "Dimension 196 is inversely about\t smooth, side, place, thicken, heat, yolk, fold, i», double, stiff\n",
      "Dimension 197 is about\t\t remove, cut, water, toumedos, lardoons, brown, cold, hydrogen, whelk\n",
      "Dimension 197 is inversely about\t smooth, mix, ingredient, preheat, bowl, panama, combine, reduce, paisley, lc\n",
      "Dimension 198 is about\t\t cook, add, milk, blanco, thicken, smooth, more, d'estournel, caput\n",
      "Dimension 198 is inversely about\t place, unbuttered, sprinkle, boniato, canapés, prolific, saltwater, glacee, myrtle, remove\n",
      "Dimension 199 is about\t\t brown, pkg, cut, c., caterpillar, garniture, green, have, roll\n",
      "Dimension 199 is inversely about\t tablespoon, remove, heat, teaspoon, panela, successive, herbert, ke, tiie, lamprey\n"
     ]
    }
   ],
   "source": [
    "print_tokens = lambda indices: \", \".join(dictionary.iloc[indices].token.tolist())\n",
    "for i in range(0, 200):\n",
    "    sortdim = pd.Series(term_weights[:,i]).sort_values()\n",
    "    print(\"Dimension %d is about\\t\\t\" % i, print_tokens(sortdim[:-10:-1].index.values))\n",
    "    print(\"Dimension %d is inversely about\\t\" % i, print_tokens(sortdim[:10].index.values))"
   ]
  },
  {
   "cell_type": "markdown",
   "metadata": {},
   "source": [
    "### Related words"
   ]
  },
  {
   "cell_type": "code",
   "execution_count": 567,
   "metadata": {
    "collapsed": true
   },
   "outputs": [],
   "source": [
    "from scipy.spatial.distance import pdist, cdist"
   ]
  },
  {
   "cell_type": "code",
   "execution_count": 653,
   "metadata": {
    "collapsed": true
   },
   "outputs": [],
   "source": [
    "q = 'sugar'\n",
    "def similar_words(q, dict_size=1000):\n",
    "    q_id = dictionary[dictionary.token == q].id.values\n",
    "    qvec = term_weights[q_id, :]\n",
    "    # Similar words\n",
    "    similarities = cdist(qvec, term_weights)\n",
    "    ranked = pd.Series(similarities[0], index=dictionary.token)\n",
    "    # Trim to only the #{dict_size} most frequent words\n",
    "    return ranked[:dict_size].sort_values(ascending=True)[1:]"
   ]
  },
  {
   "cell_type": "code",
   "execution_count": 1480,
   "metadata": {
    "scrolled": true
   },
   "outputs": [
    {
     "name": "stdout",
     "output_type": "stream",
     "text": [
      "========steak=========\n",
      "token\n",
      "short     0.496073\n",
      "rib       0.498609\n",
      "skewer    0.500571\n",
      "breast    0.507584\n",
      "string    0.508437\n",
      "dtype: float64\n",
      "========salmon========\n",
      "token\n",
      "asparagus    0.482121\n",
      "oyster       0.485063\n",
      "split        0.492362\n",
      "caper        0.497022\n",
      "perfect      0.500313\n",
      "dtype: float64\n",
      "=========ham==========\n",
      "token\n",
      "turkey    0.443072\n",
      "duck      0.467179\n",
      "stewed    0.470433\n",
      "stuff     0.472402\n",
      "short     0.475259\n",
      "dtype: float64\n"
     ]
    }
   ],
   "source": [
    "for q in ['steak', 'salmon', 'ham']:\n",
    "    print(q.center(22, '='))\n",
    "    print(similar_words(q)[:5])"
   ]
  },
  {
   "cell_type": "markdown",
   "metadata": {},
   "source": [
    "### Document Similarity"
   ]
  },
  {
   "cell_type": "code",
   "execution_count": 994,
   "metadata": {
    "collapsed": true
   },
   "outputs": [],
   "source": [
    "import spacy\n",
    "nlp = spacy.load('en')\n",
    "\n",
    "# First, an example of a sentence as a 'document' query\n",
    "def fake_doc(sentence, target_recipes=True):\n",
    "    '''\n",
    "    If target_recipes is true, the fake doc includes some counts for 'cup', teaspoon' 'tablespoon'\n",
    "    '''\n",
    "    modifier = 8\n",
    "    lemmas = [word.lemma_ for word in nlp(sentence)]\n",
    "    if target_recipes:\n",
    "        boost = dictionary.token.isin(['teaspoon', 'cup', 'tablespoon']).apply(int).multiply(0.1*len(lemmas)).values\n",
    "    else:\n",
    "        boost = np.zeros(len(dictionary))\n",
    "    per_word_mod = float(modifier)/len(lemmas)\n",
    "    fake_doc = dictionary.token.isin(lemmas).apply(int).values\n",
    "    transformed = autoencoder.transform([per_word_mod * fake_doc + boost])\n",
    "    return transformed\n",
    "\n",
    "def sentence_query(q):\n",
    "    qvec = fake_doc(q)\n",
    "    similarities = cdist(qvec, all_transformed)\n",
    "    ranked = pd.Series(similarities[0])\n",
    "    top_pages = ranked[pdfilter].sort_values().index.to_series()\n",
    "    return top_pages\n",
    "\n",
    "def page_images(result_index, sample=10):\n",
    "    arr = extended_page_ref.iloc[result_index].image_url.values\n",
    "    imagehtml = \"\".join([\"<img style='float:left' src='%s' />\" % img for img in arr])\n",
    "    return HTML(imagehtml)"
   ]
  },
  {
   "cell_type": "code",
   "execution_count": 731,
   "metadata": {},
   "outputs": [
    {
     "data": {
      "text/html": [
       "<div>\n",
       "<table border=\"1\" class=\"dataframe\">\n",
       "  <thead>\n",
       "    <tr style=\"text-align: right;\">\n",
       "      <th></th>\n",
       "      <th>volid</th>\n",
       "      <th>page</th>\n",
       "      <th>htid</th>\n",
       "      <th>year</th>\n",
       "      <th>title</th>\n",
       "      <th>rights_attributes</th>\n",
       "      <th>image_url</th>\n",
       "    </tr>\n",
       "  </thead>\n",
       "  <tbody>\n",
       "    <tr>\n",
       "      <th>0</th>\n",
       "      <td>1978</td>\n",
       "      <td>7</td>\n",
       "      <td>uc1.$b713642</td>\n",
       "      <td>1970</td>\n",
       "      <td>Wine and food.</td>\n",
       "      <td>und</td>\n",
       "      <td></td>\n",
       "    </tr>\n",
       "    <tr>\n",
       "      <th>1</th>\n",
       "      <td>1978</td>\n",
       "      <td>8</td>\n",
       "      <td>uc1.$b713642</td>\n",
       "      <td>1970</td>\n",
       "      <td>Wine and food.</td>\n",
       "      <td>und</td>\n",
       "      <td></td>\n",
       "    </tr>\n",
       "    <tr>\n",
       "      <th>2</th>\n",
       "      <td>1978</td>\n",
       "      <td>9</td>\n",
       "      <td>uc1.$b713642</td>\n",
       "      <td>1970</td>\n",
       "      <td>Wine and food.</td>\n",
       "      <td>und</td>\n",
       "      <td></td>\n",
       "    </tr>\n",
       "    <tr>\n",
       "      <th>3</th>\n",
       "      <td>1978</td>\n",
       "      <td>10</td>\n",
       "      <td>uc1.$b713642</td>\n",
       "      <td>1970</td>\n",
       "      <td>Wine and food.</td>\n",
       "      <td>und</td>\n",
       "      <td></td>\n",
       "    </tr>\n",
       "    <tr>\n",
       "      <th>4</th>\n",
       "      <td>1978</td>\n",
       "      <td>11</td>\n",
       "      <td>uc1.$b713642</td>\n",
       "      <td>1970</td>\n",
       "      <td>Wine and food.</td>\n",
       "      <td>und</td>\n",
       "      <td></td>\n",
       "    </tr>\n",
       "  </tbody>\n",
       "</table>\n",
       "</div>"
      ],
      "text/plain": [
       "   volid  page          htid  year           title rights_attributes image_url\n",
       "0   1978     7  uc1.$b713642  1970  Wine and food.               und          \n",
       "1   1978     8  uc1.$b713642  1970  Wine and food.               und          \n",
       "2   1978     9  uc1.$b713642  1970  Wine and food.               und          \n",
       "3   1978    10  uc1.$b713642  1970  Wine and food.               und          \n",
       "4   1978    11  uc1.$b713642  1970  Wine and food.               und          "
      ]
     },
     "execution_count": 731,
     "metadata": {},
     "output_type": "execute_result"
    }
   ],
   "source": [
    "HT_IMAGE_TEMPLATE = \"https://babel.hathitrust.org/cgi/imgsrv/image?id={};seq={};width={}\"\n",
    "extended_page_ref = pd.merge(page_ref,\n",
    "                             pd.merge(volids,\n",
    "                                      metadata.rename(columns={'id':'htid'})[['htid', 'year','title', 'rights_attributes']]\n",
    "                                     )\n",
    "                            )\n",
    "extended_page_ref['image_url'] = extended_page_ref.apply(lambda x: HT_IMAGE_TEMPLATE.format(x['htid'], x['page'], 550) if x['rights_attributes'] =='pd' else '', 1)\n",
    "pdfilter = (extended_page_ref.rights_attributes == 'pd')\n",
    "extended_page_ref.head()"
   ]
  },
  {
   "cell_type": "code",
   "execution_count": 1482,
   "metadata": {
    "scrolled": true
   },
   "outputs": [
    {
     "data": {
      "text/html": [
       "<img style='float:left' src='https://babel.hathitrust.org/cgi/imgsrv/image?id=osu.32435024241614;seq=9;height=550' /><img style='float:left' src='https://babel.hathitrust.org/cgi/imgsrv/image?id=osu.32435024241614;seq=10;height=550' /><img style='float:left' src='https://babel.hathitrust.org/cgi/imgsrv/image?id=osu.32435024241614;seq=11;height=550' /><img style='float:left' src='https://babel.hathitrust.org/cgi/imgsrv/image?id=uc1.31822031026875;seq=23;height=550' /><img style='float:left' src='https://babel.hathitrust.org/cgi/imgsrv/image?id=uc1.31822031038862;seq=32;height=550' /><img style='float:left' src='https://babel.hathitrust.org/cgi/imgsrv/image?id=uc1.31822031026636;seq=46;height=550' /><img style='float:left' src='https://babel.hathitrust.org/cgi/imgsrv/image?id=uc1.31822031038862;seq=15;height=550' /><img style='float:left' src='https://babel.hathitrust.org/cgi/imgsrv/image?id=wu.89043740299;seq=61;height=550' /><img style='float:left' src='https://babel.hathitrust.org/cgi/imgsrv/image?id=uc1.31822031035587;seq=52;height=550' /><img style='float:left' src='https://babel.hathitrust.org/cgi/imgsrv/image?id=uc1.31822031022056;seq=1194;height=550' />"
      ],
      "text/plain": [
       "<IPython.core.display.HTML object>"
      ]
     },
     "execution_count": 1482,
     "metadata": {},
     "output_type": "execute_result"
    }
   ],
   "source": [
    "q = 'salmon asparagus'\n",
    "results = sentence_query(q)\n",
    "img = page_images(results[:10])\n",
    "img"
   ]
  },
  {
   "cell_type": "markdown",
   "metadata": {},
   "source": [
    "### Topic modelling on the dimensions\n",
    "\n",
    "Here, I topic model on the `doc x autoencoder_dim` matrix, then I expand the resulting models to translate the topics of autocoder dimensions into topics of words."
   ]
  },
  {
   "cell_type": "code",
   "execution_count": 999,
   "metadata": {
    "collapsed": true
   },
   "outputs": [],
   "source": [
    "from sklearn.decomposition import LatentDirichletAllocation\n",
    "lda = LatentDirichletAllocation(n_topics=50, batch_size=1024)"
   ]
  },
  {
   "cell_type": "code",
   "execution_count": 1171,
   "metadata": {
    "collapsed": true
   },
   "outputs": [],
   "source": [
    "training_epochs = 1"
   ]
  },
  {
   "cell_type": "code",
   "execution_count": 1172,
   "metadata": {
    "scrolled": true
   },
   "outputs": [
    {
     "name": "stdout",
     "output_type": "stream",
     "text": [
      "batch 0\n",
      "batch 50\n",
      "batch 100\n",
      "batch 150\n",
      "batch 200\n",
      "batch 250\n",
      "batch 300\n",
      "batch 350\n",
      "batch 400\n",
      "batch 450\n",
      "Epoch: 0001 score= -599095.820911306\n"
     ]
    }
   ],
   "source": [
    "for epoch in range(training_epochs):\n",
    "    avg_score = 0.\n",
    "    total_batch = int(n_samples / batch_size)\n",
    "    # Loop over all batches\n",
    "    for i in range(total_batch):\n",
    "        batch_xs = get_random_docs(X_train, batch_size)\n",
    "\n",
    "        # Fit training using batch data\n",
    "        lda.partial_fit(batch_xs)\n",
    "        score = lda.score(batch_xs)\n",
    "        # Compute average log-liklihood\n",
    "        avg_score += score / n_samples * batch_size\n",
    "        if i % 50 == 0:\n",
    "            print(\"batch %d\" % i)\n",
    "        \n",
    "    # Display logs per epoch step\n",
    "    if epoch % display_step == 0:\n",
    "        print(\"Epoch:\", '%04d' % (epoch + 1), \"score=\", \"{:.9f}\".format(avg_score))"
   ]
  },
  {
   "cell_type": "code",
   "execution_count": 1158,
   "metadata": {},
   "outputs": [
    {
     "name": "stdout",
     "output_type": "stream",
     "text": [
      "Epoch: 0010 score= -599032.204400121\n"
     ]
    }
   ],
   "source": [
    "print(\"Epoch:\", '%04d' % (epoch + 1), \"score=\", \"{:.9f}\".format(avg_score))"
   ]
  },
  {
   "cell_type": "code",
   "execution_count": 1160,
   "metadata": {},
   "outputs": [
    {
     "name": "stdout",
     "output_type": "stream",
     "text": [
      "0 worthy, century, food, occasional, book, adapt, include, american, world, devise\n",
      "1 amazing, и, с, —, appreciative, nd, chmn, wk, newcomer, choco\n",
      "2 tasteless, acquaint, anxious, tions, dried, h‘, lemonjuice, diﬁerent, tract, tidbit\n",
      "3 k, f, %, ﬁ, w, tc, t, ч, \\, ww\n",
      "4 colorful, repertoire, reduce, ﬁnishing, prepare, same, surround, suppress, architect, heady\n",
      "5 put, take, lay, diſh, little, let, ſalt, boil, ſome, ſweet\n",
      "6 endless, impressive, intelligent, mental, mouthful, myriad, dependent, festive, harmless, sh\n",
      "7 add, cup, beat, sugar, milk, teaspoon, baking, cream, salt, mix\n",
      "8 ſtand, ake, pleaſe, cullender, ;\", gs, perfumed, pretty, nora, ſweeten\n",
      "9 this, status, discoloration, prepared, retur, liberal, ubiquitous, magical, offset, reputable\n",
      "10 afraid, diﬂicult, goodness, except, execution, amusing, persuade, innumerable, some, depart\n",
      "11 fare, wine, au, meet, occasion, cafe, du, grand, le, society\n",
      "12 use, be, many, have, other, dry, most, fresh, delicate, cook\n",
      "13 be, have, food, other, many, use, give, more, need, result\n",
      "14 publisher, new, book, printed, york, objection, knack, enumerate, copyright, consequent\n",
      "15 efficient, take, apply, oppose, water, colour, part, dissolve, mix, undergone\n",
      "16 later, ahead, t0, 5-pound, dente, mozzarella, 5-, homey, gorgonzola, 1‘/1\n",
      "17 endure, lyonnaise, louise, obscure, windsor, reminder, saratoga, exude, at, but\n",
      "18 intrigue, remnant, under, unripe, spicier, ﬁr, these, sensitive, predominate, incapable\n",
      "19 notes, identical, tips, springy, unfortunate, alter, prop, em, ugly, baldwin\n",
      "20 have, be, many, know, come, think, other, friend, time, look\n",
      "21 splash, ﬂattened, collapse, me, postage/handl, excite, appetising, blemish, windy, inclusion\n",
      "22 elegance, profound, sal, witness, se, un, una, por, que, bien\n",
      "23 prep, greasy, absurd, cloudy, i5, brim, ~l, overripe, 250°, etc\n",
      "24 ﬁner, surpass, chinese, haunt, pork, chicken, cubes, enliven, 16th, peppercorns\n",
      "25 emerge, lucky, ultimate, depression, rob, doris, foolproof, ~i, interrupt, dusty\n",
      "26 ovemight, carbo, peeler, prot, tortilla, guacamole, v2-inch, deviled, onethird, chile\n",
      "27 cream, green, bake, stew, bread, chicken, fruit, cheese, roast, stewed\n",
      "28 add, tablespoon, cut, heat, serve, cook, water, salt, remove, stir\n",
      "29 salt, season, cut, add, serve, boil, brown, little, put, remove\n",
      "30 insist, lend, foreword, stringy, generate, sharpness, glisten, confidence, lighten, backyard\n",
      "31 salt, add, serve, onion, cup, combine, cook, chop, tablespoon, brown\n",
      "32 add, boil, water, pour, put, sugar, let, milk, cold, teaspoonful\n",
      "33 indispensable, cut, rely, back, side, slender, leg, neck, meat, be\n",
      "34 useless, compete, hitherto, prompt, stable, launch, avail, tricky, bore, gathering\n",
      "35 owc, yield, serving, afb, pres, ge, chm, vanish, wc, sta\n",
      "36 serve, remove, cook, place, preheat, heat, salt, tablespoon, side, add\n",
      "37 dough, roll, place, flour, knead, smooth, baking, edge, rise, let\n",
      "38 up, spectacular, thiamine, sumptuous, resistance, -inch, niacin, smother, concoct, per\n",
      "39 extensive, harder, utmost, intention, ignorant, resemblance, fanciful, strive, anxiety, 5th\n",
      "40 ﬂavorful, gar, marvelous, skillful, irresistible, creep, xiv, disaster, adaptation, iust\n",
      "41 sophisticated, cherish, bother, million, thoughtful, overwhelming, vague, convince, eager, massive\n",
      "42 add, cook, salt, onion, serve, simmer, heat, chop, remove, tablespoon\n",
      "43 be, have, water, keep, use, other, prevent, time, place, purpose\n",
      "44 merit, judgment, unnecessary, edited, imply, evaporation, adapt, fabulous, fundamental, surprising\n",
      "45 prevail, deteriorate, assess, especial, genial, signify, sanitary, amiable, supervision, deﬁnite\n",
      "46 overlook, relieve, inevitable, regain, weaken, rainy, disease, stomach, stray, prescribe\n",
      "47 eighth, dramatic, encase, 1/8, upset, delicately, convalescent, ajinomoto, ialt, e‘\n",
      "48 preheat, remove, bowl, cream, pan, smooth, serve, mixture, combine, heat\n",
      "49 renowned, terry, enchant, hesitation, fierce, disappointing, laced, dun, doughy, kay\n"
     ]
    }
   ],
   "source": [
    "def get_topic_terms(i):\n",
    "    return pd.Series(lda.components_[i], index=dictionary.token).sort_values(ascending=False)\n",
    "\n",
    "def print_top_topic_terms(i, n=10):\n",
    "    topics = get_topic_terms(i)\n",
    "    tokens = topics.index.values[:n]\n",
    "    print(i, \", \".join(tokens))\n",
    "\n",
    "for k in range(lda.n_topics):\n",
    "    print_top_topic_terms(k)"
   ]
  },
  {
   "cell_type": "code",
   "execution_count": null,
   "metadata": {
    "collapsed": true
   },
   "outputs": [],
   "source": [
    "\n",
    "print(\"Total cost: \" + str(autoencoder.calc_total_cost(X_test.toarray())))"
   ]
  },
  {
   "cell_type": "code",
   "execution_count": 1053,
   "metadata": {},
   "outputs": [
    {
     "data": {
      "text/plain": [
       "array(['ajo', 'siguiente', 'alentejo', ..., 'penguin', 'but', 'harsh'], dtype=object)"
      ]
     },
     "execution_count": 1053,
     "metadata": {},
     "output_type": "execute_result"
    }
   ],
   "source": [
    "def words_for_dim():\n",
    "pd.Series(expandedweights[:,0], index=dictionary.token).sort_values(ascending=False).index.values"
   ]
  },
  {
   "cell_type": "code",
   "execution_count": 1077,
   "metadata": {},
   "outputs": [
    {
     "data": {
      "text/plain": [
       "array([[ 0.01689948,  0.06104647, -0.        , ..., -0.        ,\n",
       "        -0.        ,  0.00662822],\n",
       "       [ 0.01651793, -0.        , -0.        , ..., -0.        ,\n",
       "        -0.        ,  0.00584206],\n",
       "       [ 0.00212098, -0.        ,  0.00900096, ..., -0.        ,\n",
       "        -0.        ,  0.00104464],\n",
       "       ..., \n",
       "       [ 0.02163254, -0.        ,  0.00540285, ...,  0.00468644,\n",
       "        -0.        , -0.        ],\n",
       "       [ 0.01285331,  0.00014013,  0.00353292, ...,  0.01191507,\n",
       "        -0.        ,  0.01341815],\n",
       "       [-0.        , -0.        , -0.        , ..., -0.        ,\n",
       "        -0.        ,  0.00536898]])"
      ]
     },
     "execution_count": 1077,
     "metadata": {},
     "output_type": "execute_result"
    }
   ],
   "source": [
    "(lda.components_[0] * expandedweights)"
   ]
  },
  {
   "cell_type": "code",
   "execution_count": 1097,
   "metadata": {},
   "outputs": [
    {
     "data": {
      "text/plain": [
       "[array([ 0.01427825,  0.01395588,  0.001792  , ...,  0.01827718,\n",
       "         0.01085967,  0.        ]),\n",
       " array([  3.96204978e-02,   0.00000000e+00,   0.00000000e+00, ...,\n",
       "          0.00000000e+00,   9.09492561e-05,   0.00000000e+00]),\n",
       " array([ 0.        ,  0.        ,  0.0092405 , ...,  0.00554664,\n",
       "         0.00362694,  0.        ]),\n",
       " array([ 0.        ,  0.        ,  0.        , ...,  0.00214537,\n",
       "         0.        ,  0.        ]),\n",
       " array([ 0.00255109,  0.        ,  0.        , ...,  0.        ,\n",
       "         0.        ,  0.00569769]),\n",
       " array([ 0.00541456,  0.        ,  0.        , ...,  0.        ,\n",
       "         0.        ,  0.        ]),\n",
       " array([ 0.        ,  0.        ,  0.        , ...,  0.        ,\n",
       "         0.00661448,  0.00072851]),\n",
       " array([ 0.03000596,  0.00047128,  0.03207867, ...,  0.00553223,\n",
       "         0.00691735,  0.00153601]),\n",
       " array([ 0.01515207,  0.        ,  0.00933452, ...,  0.        ,\n",
       "         0.        ,  0.        ]),\n",
       " array([ 0.        ,  0.        ,  0.02797264, ...,  0.01433169,\n",
       "         0.        ,  0.        ]),\n",
       " array([ 0.        ,  0.        ,  0.01109105, ...,  0.        ,\n",
       "         0.00417918,  0.01560735]),\n",
       " array([ 0.        ,  0.00939762,  0.00025767, ...,  0.00039003,\n",
       "         0.        ,  0.02335138]),\n",
       " array([ 0.01202926,  0.        ,  0.00578206, ...,  0.00687617,\n",
       "         0.        ,  0.        ]),\n",
       " array([ 0.06379745,  0.02454272,  0.        , ...,  0.00155583,\n",
       "         0.        ,  0.        ]),\n",
       " array([ 0.        ,  0.01925393,  0.07423146, ...,  0.00355377,\n",
       "         0.        ,  0.        ]),\n",
       " array([ 0.        ,  0.        ,  0.        , ...,  0.01598106,\n",
       "         0.00279194,  0.        ]),\n",
       " array([ 0.01689457,  0.0522355 ,  0.00184657, ...,  0.        ,\n",
       "         0.        ,  0.00240685]),\n",
       " array([ 0.01637941,  0.00370498,  0.        , ...,  0.        ,\n",
       "         0.0168296 ,  0.        ]),\n",
       " array([ 0.        ,  0.        ,  0.00566706, ...,  0.        ,\n",
       "         0.00322681,  0.        ]),\n",
       " array([ 0.        ,  0.        ,  0.        , ...,  0.00140791,\n",
       "         0.        ,  0.00151757]),\n",
       " array([ 0.        ,  0.00152431,  0.        , ...,  0.00604714,\n",
       "         0.        ,  0.        ]),\n",
       " array([ 0.00464881,  0.0352392 ,  0.        , ...,  0.        ,\n",
       "         0.        ,  0.        ]),\n",
       " array([ 0.        ,  0.02597356,  0.        , ...,  0.01133275,\n",
       "         0.00041476,  0.01203022]),\n",
       " array([ 0.        ,  0.        ,  0.00524024, ...,  0.        ,\n",
       "         0.        ,  0.00206584]),\n",
       " array([ 0.02756132,  0.01422184,  0.02124093, ...,  0.00209923,\n",
       "         0.00663982,  0.        ]),\n",
       " array([ 0.        ,  0.0466206 ,  0.02796562, ...,  0.01141247,\n",
       "         0.01783003,  0.        ]),\n",
       " array([ 0.02051203,  0.01592564,  0.0183998 , ...,  0.        ,\n",
       "         0.00219101,  0.00908511]),\n",
       " array([ 0.        ,  0.        ,  0.        , ...,  0.00347535,\n",
       "         0.00528985,  0.00062432]),\n",
       " array([ 0.        ,  0.        ,  0.        , ...,  0.        ,\n",
       "         0.00353405,  0.        ]),\n",
       " array([ 0.        ,  0.        ,  0.        , ...,  0.        ,\n",
       "         0.        ,  0.00110558]),\n",
       " array([ 0.        ,  0.        ,  0.        , ...,  0.00779826,\n",
       "         0.0099962 ,  0.        ]),\n",
       " array([ 0.01502086,  0.01844309,  0.00400113, ...,  0.        ,\n",
       "         0.02095323,  0.00311728]),\n",
       " array([ 0.        ,  0.00746731,  0.        , ...,  0.        ,\n",
       "         0.00438545,  0.        ]),\n",
       " array([ 0.        ,  0.01095473,  0.0035066 , ...,  0.02618332,\n",
       "         0.        ,  0.        ]),\n",
       " array([ 0.        ,  0.        ,  0.        , ...,  0.00516462,\n",
       "         0.        ,  0.00227352]),\n",
       " array([ 0.03996489,  0.04199964,  0.03376562, ...,  0.        ,\n",
       "         0.00078387,  0.        ]),\n",
       " array([ 0.03600559,  0.        ,  0.00046217, ...,  0.        ,\n",
       "         0.01017584,  0.00250642]),\n",
       " array([  0.00000000e+00,   0.00000000e+00,   0.00000000e+00, ...,\n",
       "          2.01058873e-05,   4.84411741e-03,   0.00000000e+00]),\n",
       " array([ 0.01205095,  0.        ,  0.01175067, ...,  0.        ,\n",
       "         0.00420087,  0.        ]),\n",
       " array([ 0.03300212,  0.        ,  0.02812098, ...,  0.00038117,\n",
       "         0.        ,  0.00639525]),\n",
       " array([  1.83051669e-02,   3.97131858e-02,   3.56520492e-02, ...,\n",
       "          0.00000000e+00,   6.56013705e-06,   5.69391479e-03]),\n",
       " array([ 0.        ,  0.04461599,  0.0048423 , ...,  0.        ,\n",
       "         0.        ,  0.        ]),\n",
       " array([ 0.        ,  0.        ,  0.        , ...,  0.00253711,\n",
       "         0.00813865,  0.        ]),\n",
       " array([ 0.        ,  0.        ,  0.00865757, ...,  0.00585178,\n",
       "         0.00250679,  0.        ]),\n",
       " array([ 0.        ,  0.        ,  0.        , ...,  0.        ,\n",
       "         0.00066988,  0.        ]),\n",
       " array([ 0.00993006,  0.        ,  0.        , ...,  0.        ,\n",
       "         0.00251104,  0.00841775]),\n",
       " array([ 0.00572214,  0.01825631,  0.        , ...,  0.        ,\n",
       "         0.        ,  0.00782937]),\n",
       " array([ 0.        ,  0.        ,  0.        , ...,  0.00800893,\n",
       "         0.0020686 ,  0.01151721]),\n",
       " array([ 0.        ,  0.02692487,  0.        , ...,  0.        ,\n",
       "         0.00383817,  0.        ]),\n",
       " array([ 0.06342003,  0.00620511,  0.03141416, ...,  0.        ,\n",
       "         0.        ,  0.00269835]),\n",
       " array([ 0.,  0.,  0., ...,  0.,  0.,  0.]),\n",
       " array([ 0.        ,  0.        ,  0.        , ...,  0.        ,\n",
       "         0.        ,  0.00372778]),\n",
       " array([ 0.        ,  0.        ,  0.        , ...,  0.        ,\n",
       "         0.        ,  0.00366002]),\n",
       " array([ 0.00188727,  0.01193784,  0.0005294 , ...,  0.00529973,\n",
       "         0.        ,  0.        ]),\n",
       " array([ 0.        ,  0.        ,  0.        , ...,  0.00705801,\n",
       "         0.0011644 ,  0.        ]),\n",
       " array([ 0.        ,  0.00019176,  0.        , ...,  0.00692574,\n",
       "         0.        ,  0.00935787]),\n",
       " array([ 0.03155247,  0.        ,  0.        , ...,  0.        ,\n",
       "         0.        ,  0.00085172]),\n",
       " array([ 0.,  0.,  0., ...,  0.,  0.,  0.]),\n",
       " array([ 0.        ,  0.0811479 ,  0.12215536, ...,  0.01367464,\n",
       "         0.00783483,  0.00135939]),\n",
       " array([ 0.01969189,  0.00091602,  0.00957155, ...,  0.01341258,\n",
       "         0.00511101,  0.00069588]),\n",
       " array([ 0.00522945,  0.00166738,  0.        , ...,  0.        ,\n",
       "         0.        ,  0.        ]),\n",
       " array([ 0.00419545,  0.00599392,  0.01331078, ...,  0.        ,\n",
       "         0.        ,  0.        ]),\n",
       " array([ 0.,  0.,  0., ...,  0.,  0.,  0.]),\n",
       " array([ 0.        ,  0.        ,  0.00124152, ...,  0.00800785,\n",
       "         0.00346147,  0.        ]),\n",
       " array([ 0.        ,  0.02114679,  0.00088576, ...,  0.01370648,\n",
       "         0.        ,  0.00551206]),\n",
       " array([ 0.00091804,  0.        ,  0.0025956 , ...,  0.00361489,\n",
       "         0.00366572,  0.00036125]),\n",
       " array([ 0.11116544,  0.04553015,  0.        , ...,  0.        ,\n",
       "         0.0015058 ,  0.00317711]),\n",
       " array([ 0.       ,  0.       ,  0.       , ...,  0.0109414,  0.       ,\n",
       "         0.0043517]),\n",
       " array([ 0.        ,  0.01314041,  0.        , ...,  0.0068316 ,\n",
       "         0.        ,  0.01033007]),\n",
       " array([ 0.01151559,  0.        ,  0.        , ...,  0.        ,\n",
       "         0.        ,  0.        ]),\n",
       " array([ 0.        ,  0.        ,  0.        , ...,  0.00155813,\n",
       "         0.        ,  0.00323098]),\n",
       " array([ 0.        ,  0.02714421,  0.00059618, ...,  0.00754912,\n",
       "         0.        ,  0.        ]),\n",
       " array([ 0.        ,  0.        ,  0.        , ...,  0.01334506,\n",
       "         0.00468054,  0.        ]),\n",
       " array([ 0.        ,  0.        ,  0.        , ...,  0.        ,\n",
       "         0.01018567,  0.00538546]),\n",
       " array([ 0.,  0.,  0., ...,  0.,  0.,  0.]),\n",
       " array([ 0.00213232,  0.00856325,  0.01435451, ...,  0.00320725,\n",
       "         0.        ,  0.        ]),\n",
       " array([ 0.00034406,  0.        ,  0.00966137, ...,  0.00125644,\n",
       "         0.00146868,  0.00664849]),\n",
       " array([ 0.        ,  0.        ,  0.        , ...,  0.01396971,\n",
       "         0.        ,  0.        ]),\n",
       " array([ 0.01292468,  0.01298761,  0.02347636, ...,  0.        ,\n",
       "         0.        ,  0.        ]),\n",
       " array([  0.00000000e+00,   0.00000000e+00,   0.00000000e+00, ...,\n",
       "          4.67677326e-03,   1.56757002e-02,   2.83593317e-06]),\n",
       " array([ 0.        ,  0.        ,  0.        , ...,  0.00723566,\n",
       "         0.        ,  0.        ]),\n",
       " array([ 0.03323508,  0.02942389,  0.        , ...,  0.00038411,\n",
       "         0.00157291,  0.00392879]),\n",
       " array([ 0.        ,  0.        ,  0.        , ...,  0.00632156,\n",
       "         0.00486825,  0.        ]),\n",
       " array([ 0.03479911,  0.        ,  0.00601635, ...,  0.        ,\n",
       "         0.        ,  0.        ]),\n",
       " array([ 0.        ,  0.01092429,  0.        , ...,  0.00795609,\n",
       "         0.00190735,  0.00684417]),\n",
       " array([ 0.        ,  0.00579499,  0.01128896, ...,  0.        ,\n",
       "         0.00128527,  0.00657501]),\n",
       " array([ 0.02636495,  0.        ,  0.00589257, ...,  0.00778563,\n",
       "         0.        ,  0.00864091]),\n",
       " array([  6.28520644e-05,   0.00000000e+00,   2.97438119e-02, ...,\n",
       "          1.40843099e-02,   0.00000000e+00,   3.46903295e-03]),\n",
       " array([ 0.0257333 ,  0.02667806,  0.04198338, ...,  0.00700191,\n",
       "         0.0046117 ,  0.        ]),\n",
       " array([ 0.        ,  0.05621846,  0.03117742, ...,  0.        ,\n",
       "         0.01761063,  0.00281241]),\n",
       " array([ 0.        ,  0.00179636,  0.01273001, ...,  0.        ,\n",
       "         0.01130401,  0.00695627]),\n",
       " array([ 0.00507253,  0.        ,  0.        , ...,  0.        ,\n",
       "         0.        ,  0.00787762]),\n",
       " array([ 0.        ,  0.        ,  0.00059513, ...,  0.00966516,\n",
       "         0.        ,  0.00486812]),\n",
       " array([ 0.05660979,  0.0079585 ,  0.00237117, ...,  0.00338931,\n",
       "         0.        ,  0.00602168]),\n",
       " array([ 0.        ,  0.        ,  0.03970014, ...,  0.        ,\n",
       "         0.        ,  0.        ]),\n",
       " array([ 0.03166114,  0.01759396,  0.01823425, ...,  0.        ,\n",
       "         0.        ,  0.        ]),\n",
       " array([ 0.,  0.,  0., ...,  0.,  0.,  0.]),\n",
       " array([ 0.        ,  0.02033294,  0.00803116, ...,  0.        ,\n",
       "         0.        ,  0.00928909]),\n",
       " array([ 0.        ,  0.        ,  0.        , ...,  0.01568481,\n",
       "         0.00879516,  0.        ]),\n",
       " array([ 0.00837045,  0.        ,  0.00772313, ...,  0.        ,\n",
       "         0.        ,  0.        ]),\n",
       " array([ 0.00067679,  0.        ,  0.        , ...,  0.        ,\n",
       "         0.        ,  0.01135386]),\n",
       " array([ 0.        ,  0.02184781,  0.00591469, ...,  0.00197707,\n",
       "         0.        ,  0.00299884]),\n",
       " array([ 0.        ,  0.03737219,  0.03747854, ...,  0.02260811,\n",
       "         0.        ,  0.00709836]),\n",
       " array([ 0.02287088,  0.02178428,  0.02048128, ...,  0.01020053,\n",
       "         0.        ,  0.        ]),\n",
       " array([ 0.        ,  0.        ,  0.        , ...,  0.        ,\n",
       "         0.        ,  0.01285247]),\n",
       " array([ 0.04067257,  0.        ,  0.        , ...,  0.00198449,\n",
       "         0.        ,  0.02321205]),\n",
       " array([ 0.02099017,  0.        ,  0.01304917, ...,  0.        ,\n",
       "         0.0117906 ,  0.        ]),\n",
       " array([ 0.        ,  0.        ,  0.        , ...,  0.        ,\n",
       "         0.        ,  0.01721172]),\n",
       " array([ 0.        ,  0.        ,  0.        , ...,  0.00688451,\n",
       "         0.        ,  0.00530346]),\n",
       " array([ 0.        ,  0.02034074,  0.        , ...,  0.        ,\n",
       "         0.        ,  0.01442086]),\n",
       " array([ 0.        ,  0.        ,  0.        , ...,  0.00030965,\n",
       "         0.        ,  0.        ]),\n",
       " array([ 0.01981378,  0.        ,  0.        , ...,  0.        ,\n",
       "         0.00231903,  0.        ]),\n",
       " array([ 0.        ,  0.        ,  0.01048897, ...,  0.        ,\n",
       "         0.        ,  0.        ]),\n",
       " array([ 0.03161245,  0.03350517,  0.02657799, ...,  0.        ,\n",
       "         0.        ,  0.        ]),\n",
       " array([ 0.        ,  0.00193293,  0.        , ...,  0.        ,\n",
       "         0.        ,  0.        ]),\n",
       " array([ 0.,  0.,  0., ...,  0.,  0.,  0.]),\n",
       " array([ 0.        ,  0.04599808,  0.        , ...,  0.        ,\n",
       "         0.        ,  0.        ]),\n",
       " array([ 0.        ,  0.02815727,  0.        , ...,  0.        ,\n",
       "         0.00677958,  0.00477257]),\n",
       " array([ 0.        ,  0.        ,  0.        , ...,  0.        ,\n",
       "         0.00050575,  0.        ]),\n",
       " array([ 0.        ,  0.        ,  0.        , ...,  0.        ,\n",
       "         0.00215995,  0.00610979]),\n",
       " array([ 0.00692312,  0.0050465 ,  0.01165356, ...,  0.00892705,\n",
       "         0.01610177,  0.        ]),\n",
       " array([ 0.04022874,  0.01011029,  0.        , ...,  0.01002008,\n",
       "         0.        ,  0.00907728]),\n",
       " array([ 0.        ,  0.        ,  0.        , ...,  0.        ,\n",
       "         0.        ,  0.00584312]),\n",
       " array([ 0.01470371,  0.00609939,  0.01791448, ...,  0.00088516,\n",
       "         0.        ,  0.00369858]),\n",
       " array([ 0.04875516,  0.        ,  0.0277699 , ...,  0.00437143,\n",
       "         0.        ,  0.        ]),\n",
       " array([ 0.        ,  0.        ,  0.        , ...,  0.00425821,\n",
       "         0.00761032,  0.        ]),\n",
       " array([ 0.        ,  0.0093195 ,  0.01294098, ...,  0.01008037,\n",
       "         0.        ,  0.        ]),\n",
       " array([ 0.        ,  0.01697269,  0.        , ...,  0.        ,\n",
       "         0.        ,  0.        ]),\n",
       " array([ 0.00333871,  0.00841452,  0.01944931, ...,  0.00456484,\n",
       "         0.        ,  0.00748958]),\n",
       " array([ 0.04151162,  0.03303643,  0.02870941, ...,  0.00771309,\n",
       "         0.00486329,  0.00882288]),\n",
       " array([ 0.00578402,  0.        ,  0.        , ...,  0.00440656,\n",
       "         0.00190199,  0.02351894]),\n",
       " array([ 0.0236505 ,  0.        ,  0.01759688, ...,  0.00494997,\n",
       "         0.00094711,  0.        ]),\n",
       " array([ 0.        ,  0.        ,  0.01201641, ...,  0.00197692,\n",
       "         0.        ,  0.        ]),\n",
       " array([ 0.02395591,  0.04199003,  0.04925074, ...,  0.00177979,\n",
       "         0.00112632,  0.00453833]),\n",
       " array([ 0.05960198,  0.03639946,  0.02984989, ...,  0.        ,\n",
       "         0.        ,  0.00057472]),\n",
       " array([ 0.03438742,  0.        ,  0.        , ...,  0.        ,\n",
       "         0.        ,  0.00150089]),\n",
       " array([ 0.        ,  0.        ,  0.02195576, ...,  0.        ,\n",
       "         0.00115661,  0.        ]),\n",
       " array([ 0.01791604,  0.15703093,  0.01542079, ...,  0.        ,\n",
       "         0.        ,  0.        ]),\n",
       " array([ 0.        ,  0.01118982,  0.01353709, ...,  0.        ,\n",
       "         0.00057227,  0.00983637]),\n",
       " array([ 0.        ,  0.00726019,  0.02530576, ...,  0.0133348 ,\n",
       "         0.        ,  0.        ]),\n",
       " array([ 0.00150732,  0.03146409,  0.06482247, ...,  0.        ,\n",
       "         0.        ,  0.        ]),\n",
       " array([ 0.1123897 ,  0.20264286,  0.09099938, ...,  0.        ,\n",
       "         0.00189265,  0.        ]),\n",
       " array([ 0.00614851,  0.02137162,  0.00179867, ...,  0.        ,\n",
       "         0.00266719,  0.        ]),\n",
       " array([ 0.        ,  0.07966935,  0.        , ...,  0.00176578,\n",
       "         0.00608354,  0.        ]),\n",
       " array([ 0.00218767,  0.        ,  0.        , ...,  0.        ,\n",
       "         0.        ,  0.        ]),\n",
       " array([ 0.        ,  0.        ,  0.        , ...,  0.        ,\n",
       "         0.        ,  0.01318602]),\n",
       " array([ 0.        ,  0.05147216,  0.08510408, ...,  0.        ,\n",
       "         0.        ,  0.        ]),\n",
       " array([ 0.        ,  0.        ,  0.        , ...,  0.        ,\n",
       "         0.00080652,  0.        ]),\n",
       " array([ 0.        ,  0.        ,  0.03743656, ...,  0.01503824,\n",
       "         0.        ,  0.00384269]),\n",
       " array([ 0.01577519,  0.00469989,  0.00758587, ...,  0.        ,\n",
       "         0.        ,  0.        ]),\n",
       " array([ 0.02499237,  0.        ,  0.01226235, ...,  0.00440697,\n",
       "         0.        ,  0.01155328]),\n",
       " array([ 0.        ,  0.        ,  0.        , ...,  0.00829051,\n",
       "         0.        ,  0.        ]),\n",
       " array([ 0.01300986,  0.00971499,  0.01771823, ...,  0.        ,\n",
       "         0.        ,  0.01207189]),\n",
       " array([ 0.03119126,  0.        ,  0.00020798, ...,  0.0008384 ,\n",
       "         0.00955292,  0.00707803]),\n",
       " array([ 0.056207  ,  0.        ,  0.        , ...,  0.        ,\n",
       "         0.        ,  0.00860284]),\n",
       " array([ 0.,  0.,  0., ...,  0.,  0.,  0.]),\n",
       " array([ 0.        ,  0.        ,  0.01590497, ...,  0.00365357,\n",
       "         0.00474793,  0.        ]),\n",
       " array([ 0.        ,  0.        ,  0.        , ...,  0.        ,\n",
       "         0.01821584,  0.0016196 ]),\n",
       " array([ 0.01691243,  0.00067388,  0.        , ...,  0.01098191,\n",
       "         0.        ,  0.01025588]),\n",
       " array([ 0.00159899,  0.01269581,  0.00283666, ...,  0.00214838,\n",
       "         0.        ,  0.01845069]),\n",
       " array([ 0.        ,  0.        ,  0.        , ...,  0.00605806,\n",
       "         0.01262885,  0.00401712]),\n",
       " array([ 0.        ,  0.01864651,  0.02471146, ...,  0.00657843,\n",
       "         0.        ,  0.00042205]),\n",
       " array([ 0.        ,  0.        ,  0.        , ...,  0.00187169,\n",
       "         0.01719714,  0.00060294]),\n",
       " array([ 0.02212711,  0.01171279,  0.03287376, ...,  0.00293632,\n",
       "         0.        ,  0.00035489]),\n",
       " array([ 0.        ,  0.        ,  0.        , ...,  0.00091939,\n",
       "         0.00113786,  0.        ]),\n",
       " array([ 0.        ,  0.        ,  0.        , ...,  0.        ,\n",
       "         0.00698427,  0.        ]),\n",
       " array([ 0.        ,  0.        ,  0.00130507, ...,  0.0115001 ,\n",
       "         0.        ,  0.00019096]),\n",
       " array([ 0.01093122,  0.        ,  0.00046631, ...,  0.        ,\n",
       "         0.        ,  0.        ]),\n",
       " array([ 0.01080564,  0.        ,  0.        , ...,  0.00403729,\n",
       "         0.00167012,  0.0038642 ]),\n",
       " array([ 0.        ,  0.        ,  0.02957148, ...,  0.00892474,\n",
       "         0.00772204,  0.        ]),\n",
       " array([ 0.        ,  0.        ,  0.00160555, ...,  0.        ,\n",
       "         0.01566394,  0.        ]),\n",
       " array([ 0.00750678,  0.        ,  0.        , ...,  0.        ,\n",
       "         0.        ,  0.        ]),\n",
       " array([ 0.01513017,  0.11736546,  0.        , ...,  0.00886522,\n",
       "         0.        ,  0.00338927]),\n",
       " array([ 0.        ,  0.        ,  0.00096837, ...,  0.00127639,\n",
       "         0.        ,  0.        ]),\n",
       " array([ 0.        ,  0.00704457,  0.02833626, ...,  0.00579242,\n",
       "         0.        ,  0.0056207 ]),\n",
       " array([ 0.        ,  0.0099216 ,  0.        , ...,  0.00526111,\n",
       "         0.00620995,  0.        ]),\n",
       " array([ 0.        ,  0.0071754 ,  0.        , ...,  0.01410371,\n",
       "         0.        ,  0.00904722]),\n",
       " array([ 0.01238948,  0.02570328,  0.        , ...,  0.        ,\n",
       "         0.        ,  0.00387623]),\n",
       " array([ 0.03176882,  0.00457729,  0.02582291, ...,  0.        ,\n",
       "         0.00954139,  0.00110132]),\n",
       " array([ 0.01410864,  0.        ,  0.        , ...,  0.01242993,\n",
       "         0.00914795,  0.        ]),\n",
       " array([ 0.01729911,  0.        ,  0.01028695, ...,  0.        ,\n",
       "         0.00602263,  0.        ]),\n",
       " array([ 0.,  0.,  0., ...,  0.,  0.,  0.]),\n",
       " array([ 0.        ,  0.        ,  0.        , ...,  0.        ,\n",
       "         0.        ,  0.00630842]),\n",
       " array([ 0.00161965,  0.        ,  0.00595237, ...,  0.        ,\n",
       "         0.        ,  0.        ]),\n",
       " array([ 0.        ,  0.06049138,  0.        , ...,  0.00566968,\n",
       "         0.00347687,  0.        ]),\n",
       " array([ 0.00873209,  0.0022983 ,  0.0040694 , ...,  0.        ,\n",
       "         0.00412461,  0.        ]),\n",
       " array([ 0.00338908,  0.        ,  0.        , ...,  0.        ,\n",
       "         0.        ,  0.00204275]),\n",
       " array([ 0.00924167,  0.02040269,  0.00901084, ...,  0.        ,\n",
       "         0.00176414,  0.        ]),\n",
       " array([ 0.01337573,  0.        ,  0.00081776, ...,  0.        ,\n",
       "         0.0015618 ,  0.        ]),\n",
       " array([ 0.01981151,  0.        ,  0.01443854, ...,  0.        ,\n",
       "         0.        ,  0.01962702]),\n",
       " array([ 0.02070612,  0.        ,  0.        , ...,  0.        ,\n",
       "         0.        ,  0.        ]),\n",
       " array([ 0.        ,  0.02599201,  0.        , ...,  0.01162449,\n",
       "         0.00082216,  0.        ]),\n",
       " array([ 0.        ,  0.        ,  0.        , ...,  0.        ,\n",
       "         0.        ,  0.00429379]),\n",
       " array([ 0.        ,  0.        ,  0.        , ...,  0.        ,\n",
       "         0.        ,  0.00628055]),\n",
       " array([ 0.0586547 ,  0.00940377,  0.        , ...,  0.00169833,\n",
       "         0.00054812,  0.00919916]),\n",
       " array([ 0.01672868,  0.        ,  0.04604266, ...,  0.        ,\n",
       "         0.        ,  0.        ]),\n",
       " array([ 0.03909292,  0.02866537,  0.01641498, ...,  0.        ,\n",
       "         0.00693985,  0.01016147]),\n",
       " array([ 0.01889838,  0.01878324,  0.04144306, ...,  0.        ,\n",
       "         0.        ,  0.00327933]),\n",
       " array([ 0.0034843 ,  0.03467371,  0.0215504 , ...,  0.01357517,\n",
       "         0.00311964,  0.00161917]),\n",
       " array([ 0.       ,  0.       ,  0.       , ...,  0.0148504,  0.       ,  0.       ]),\n",
       " array([ 0.        ,  0.        ,  0.        , ...,  0.        ,\n",
       "         0.        ,  0.01136937]),\n",
       " array([ 0.        ,  0.13808093,  0.11477234, ...,  0.00400534,\n",
       "         0.        ,  0.00243578]),\n",
       " array([ 0.00691402,  0.03561893,  0.        , ...,  0.        ,\n",
       "         0.        ,  0.00112623]),\n",
       " array([ 0.00188921,  0.03987132,  0.03972248, ...,  0.        ,\n",
       "         0.01821345,  0.00624331]),\n",
       " array([ 0.        ,  0.00425292,  0.00582565, ...,  0.01546601,\n",
       "         0.00379678,  0.        ]),\n",
       " array([ 0.        ,  0.00373694,  0.02626937, ...,  0.01790821,\n",
       "         0.01107136,  0.00917687]),\n",
       " array([ 0.01285805,  0.01985002,  0.01618646, ...,  0.00994972,\n",
       "         0.        ,  0.        ]),\n",
       " array([ 0.,  0.,  0., ...,  0.,  0.,  0.]),\n",
       " array([ 0.        ,  0.01676535,  0.        , ...,  0.01006923,\n",
       "         0.00032277,  0.0200403 ]),\n",
       " array([ 0.00062148,  0.00170921,  0.        , ...,  0.        ,\n",
       "         0.00460563,  0.00777871]),\n",
       " array([ 0.02115874,  0.00886936,  0.        , ...,  0.00364062,\n",
       "         0.        ,  0.        ]),\n",
       " array([ 0.00046028,  0.        ,  0.        , ...,  0.        ,\n",
       "         0.00799591,  0.        ]),\n",
       " array([ 0.        ,  0.01334277,  0.        , ...,  0.        ,\n",
       "         0.00263113,  0.00486391]),\n",
       " array([ 0.        ,  0.        ,  0.00447153, ...,  0.        ,\n",
       "         0.01446742,  0.01168741]),\n",
       " array([ 0.03580027,  0.        ,  0.        , ...,  0.        ,\n",
       "         0.00911054,  0.00060321]),\n",
       " array([ 0.01735979,  0.00889065,  0.01643815, ...,  0.        ,\n",
       "         0.        ,  0.00056484]),\n",
       " array([ 0.        ,  0.        ,  0.        , ...,  0.01207577,\n",
       "         0.00845882,  0.        ]),\n",
       " array([ 0.        ,  0.        ,  0.02082664, ...,  0.00464723,\n",
       "         0.        ,  0.0005883 ]),\n",
       " array([ 0.00036519,  0.02077469,  0.        , ...,  0.00826619,\n",
       "         0.        ,  0.01277083]),\n",
       " array([ 0.04934669,  0.05876552,  0.02987487, ...,  0.        ,\n",
       "         0.0009838 ,  0.        ]),\n",
       " array([ 0.01055094,  0.        ,  0.00198442, ...,  0.        ,\n",
       "         0.00858535,  0.00471719]),\n",
       " array([ 0.        ,  0.        ,  0.00229366, ...,  0.00920782,\n",
       "         0.01757612,  0.00322556]),\n",
       " array([ 0.01112576,  0.        ,  0.00917379, ...,  0.        ,\n",
       "         0.        ,  0.        ]),\n",
       " array([ 0.02504227,  0.00280005,  0.        , ...,  0.0076685 ,\n",
       "         0.00738912,  0.        ]),\n",
       " array([ 0.        ,  0.        ,  0.        , ...,  0.        ,\n",
       "         0.        ,  0.00871695]),\n",
       " array([ 0.04194801,  0.        ,  0.        , ...,  0.        ,\n",
       "         0.        ,  0.01556409]),\n",
       " array([ 0.       ,  0.       ,  0.       , ...,  0.0060767,  0.       ,  0.       ]),\n",
       " array([ 0.02039088,  0.0399759 ,  0.03562547, ...,  0.        ,\n",
       "         0.        ,  0.        ]),\n",
       " array([ 0.02871164,  0.01614491,  0.01910991, ...,  0.00340404,\n",
       "         0.        ,  0.00626072]),\n",
       " array([ 0.01701378,  0.00631661,  0.00975704, ...,  0.0038024 ,\n",
       "         0.00038804,  0.        ]),\n",
       " array([ 0.00341643,  0.02662401,  0.03445584, ...,  0.        ,\n",
       "         0.        ,  0.00722362]),\n",
       " array([ 0.        ,  0.        ,  0.        , ...,  0.00532906,\n",
       "         0.        ,  0.        ]),\n",
       " array([ 0.00554456,  0.        ,  0.02521951, ...,  0.01595496,\n",
       "         0.        ,  0.00487963]),\n",
       " array([ 0.0558025 ,  0.        ,  0.        , ...,  0.        ,\n",
       "         0.00068732,  0.00599399]),\n",
       " array([ 0.05543179,  0.05710157,  0.04555603, ...,  0.        ,\n",
       "         0.01098717,  0.        ]),\n",
       " array([ 0.        ,  0.        ,  0.        , ...,  0.0068461 ,\n",
       "         0.        ,  0.00066285]),\n",
       " array([ 0.        ,  0.00264617,  0.        , ...,  0.00268877,\n",
       "         0.        ,  0.        ]),\n",
       " array([ 0.00192379,  0.05875033,  0.02408298, ...,  0.        ,\n",
       "         0.        ,  0.01209306]),\n",
       " array([ 0.        ,  0.03259467,  0.        , ...,  0.00725744,\n",
       "         0.        ,  0.00858111]),\n",
       " array([ 0.        ,  0.00482674,  0.        , ...,  0.        ,\n",
       "         0.00191047,  0.        ]),\n",
       " array([ 0.        ,  0.        ,  0.        , ...,  0.00645281,\n",
       "         0.        ,  0.        ]),\n",
       " array([ 0.04937315,  0.        ,  0.        , ...,  0.00433242,\n",
       "         0.00484493,  0.00219412]),\n",
       " array([ 0.01547145,  0.02416513,  0.026472  , ...,  0.        ,\n",
       "         0.        ,  0.01306855]),\n",
       " array([ 0.01352046,  0.01127553,  0.        , ...,  0.        ,\n",
       "         0.        ,  0.01065175]),\n",
       " array([ 0.01128976,  0.00375842,  0.01558337, ...,  0.00177996,\n",
       "         0.        ,  0.00076376]),\n",
       " array([ 0.        ,  0.00787662,  0.01754482, ...,  0.00305342,\n",
       "         0.        ,  0.        ]),\n",
       " array([ 0.        ,  0.        ,  0.00590173, ...,  0.00443715,\n",
       "         0.00529832,  0.        ]),\n",
       " array([ 0.00747422,  0.01358052,  0.0369816 , ...,  0.        ,\n",
       "         0.        ,  0.        ]),\n",
       " array([ 0.00189834,  0.        ,  0.02340723, ...,  0.00223521,\n",
       "         0.        ,  0.00862216]),\n",
       " array([ 0.        ,  0.        ,  0.        , ...,  0.00397448,\n",
       "         0.00570927,  0.        ]),\n",
       " array([ 0.03039195,  0.01784208,  0.0010786 , ...,  0.01030508,\n",
       "         0.01695782,  0.00160111]),\n",
       " array([ 0.00242277,  0.02786576,  0.04586385, ...,  0.00618588,\n",
       "         0.02451248,  0.        ]),\n",
       " array([ 0.05062877,  0.04835237,  0.05465973, ...,  0.00541252,\n",
       "         0.00237302,  0.        ]),\n",
       " array([ 0.        ,  0.        ,  0.        , ...,  0.        ,\n",
       "         0.01516312,  0.00204464]),\n",
       " array([ 0.00973036,  0.02339214,  0.0244556 , ...,  0.        ,\n",
       "         0.        ,  0.01098152]),\n",
       " array([ 0.01241932,  0.        ,  0.02145259, ...,  0.        ,\n",
       "         0.00074029,  0.        ]),\n",
       " array([ 0.        ,  0.01937192,  0.01601582, ...,  0.00761469,\n",
       "         0.00073651,  0.        ]),\n",
       " array([ 0.01731248,  0.0147671 ,  0.02525049, ...,  0.00782744,\n",
       "         0.00926362,  0.00639681]),\n",
       " array([ 0.02347693,  0.        ,  0.        , ...,  0.        ,\n",
       "         0.        ,  0.        ]),\n",
       " array([ 0.,  0.,  0., ...,  0.,  0.,  0.]),\n",
       " array([ 0.        ,  0.        ,  0.01451105, ...,  0.01905234,\n",
       "         0.00563759,  0.00416397]),\n",
       " array([ 0.        ,  0.        ,  0.        , ...,  0.01071851,\n",
       "         0.00567859,  0.00759145]),\n",
       " array([ 0.0082063 ,  0.04678194,  0.01493951, ...,  0.00159229,\n",
       "         0.0019553 ,  0.01158354]),\n",
       " array([ 0.01151819,  0.01880085,  0.        , ...,  0.        ,\n",
       "         0.        ,  0.00251295]),\n",
       " array([ 0.03734764,  0.        ,  0.        , ...,  0.        ,\n",
       "         0.00191514,  0.        ]),\n",
       " array([ 0.        ,  0.00660794,  0.        , ...,  0.        ,\n",
       "         0.        ,  0.        ]),\n",
       " array([ 0.        ,  0.        ,  0.05435606, ...,  0.0115769 ,\n",
       "         0.        ,  0.        ]),\n",
       " array([ 0.02162923,  0.03290511,  0.05019995, ...,  0.        ,\n",
       "         0.00022035,  0.        ]),\n",
       " array([ 0.00482658,  0.        ,  0.01123914, ...,  0.        ,\n",
       "         0.00223487,  0.        ]),\n",
       " array([ 0.        ,  0.01664524,  0.01231843, ...,  0.0074361 ,\n",
       "         0.01297181,  0.00495707]),\n",
       " array([ 0.01083979,  0.04254884,  0.05225058, ...,  0.        ,\n",
       "         0.01086671,  0.        ]),\n",
       " array([ 0.01405604,  0.        ,  0.        , ...,  0.        ,\n",
       "         0.00107913,  0.0074168 ]),\n",
       " array([ 0.01027173,  0.01470211,  0.01068554, ...,  0.        ,\n",
       "         0.        ,  0.01106083]),\n",
       " array([ 0.02828587,  0.16020347,  0.08131264, ...,  0.00193398,\n",
       "         0.        ,  0.        ]),\n",
       " array([ 0.03120544,  0.00850491,  0.00370184, ...,  0.00635285,\n",
       "         0.00657338,  0.01315821]),\n",
       " array([ 0.        ,  0.        ,  0.        , ...,  0.        ,\n",
       "         0.00676152,  0.00995016]),\n",
       " array([ 0.        ,  0.00235803,  0.        , ...,  0.        ,\n",
       "         0.        ,  0.        ]),\n",
       " array([ 0.0394184 ,  0.01213602,  0.00199203, ...,  0.        ,\n",
       "         0.00720387,  0.00746411]),\n",
       " array([ 0.        ,  0.        ,  0.        , ...,  0.01161752,\n",
       "         0.00389426,  0.0074757 ]),\n",
       " array([ 0.00721874,  0.01383252,  0.04293682, ...,  0.        ,\n",
       "         0.        ,  0.        ]),\n",
       " array([ 0.03720665,  0.01318845,  0.00241575, ...,  0.        ,\n",
       "         0.00162063,  0.01513932]),\n",
       " array([ 0.        ,  0.        ,  0.01155847, ...,  0.        ,\n",
       "         0.        ,  0.        ]),\n",
       " array([ 0.02362427,  0.03726371,  0.02778665, ...,  0.        ,\n",
       "         0.        ,  0.01337193]),\n",
       " array([ 0.        ,  0.00079036,  0.        , ...,  0.00490751,\n",
       "         0.00984471,  0.00811745]),\n",
       " array([ 0.02523032,  0.        ,  0.01242745, ...,  0.        ,\n",
       "         0.        ,  0.        ]),\n",
       " array([ 0.026036  ,  0.        ,  0.        , ...,  0.01447246,\n",
       "         0.        ,  0.        ]),\n",
       " array([ 0.        ,  0.00493437,  0.        , ...,  0.        ,\n",
       "         0.00557369,  0.        ]),\n",
       " array([ 0.        ,  0.00994752,  0.        , ...,  0.        ,\n",
       "         0.00019609,  0.        ]),\n",
       " array([ 0.        ,  0.        ,  0.        , ...,  0.        ,\n",
       "         0.        ,  0.00164096]),\n",
       " array([ 0.0067101 ,  0.        ,  0.        , ...,  0.00359541,\n",
       "         0.        ,  0.        ]),\n",
       " array([ 0.00633254,  0.        ,  0.        , ...,  0.00470841,\n",
       "         0.        ,  0.        ]),\n",
       " array([ 0.        ,  0.03089692,  0.00338334, ...,  0.00121325,\n",
       "         0.00266925,  0.        ]),\n",
       " array([ 0.01749804,  0.00518675,  0.        , ...,  0.        ,\n",
       "         0.00126979,  0.        ]),\n",
       " array([ 0.        ,  0.        ,  0.        , ...,  0.        ,\n",
       "         0.01250482,  0.        ]),\n",
       " array([ 0.2440808 ,  0.15680149,  0.        , ...,  0.00388127,\n",
       "         0.00716465,  0.00250063]),\n",
       " array([ 0.        ,  0.        ,  0.        , ...,  0.01054114,\n",
       "         0.01135244,  0.00354814]),\n",
       " array([ 0.02442262,  0.0039804 ,  0.0015946 , ...,  0.00414882,\n",
       "         0.01712845,  0.00898651]),\n",
       " array([ 0.00343009,  0.        ,  0.        , ...,  0.00942789,\n",
       "         0.00941476,  0.        ]),\n",
       " array([ 0.0496667 ,  0.01548516,  0.03993719, ...,  0.        ,\n",
       "         0.        ,  0.00167155]),\n",
       " array([ 0.        ,  0.00705266,  0.        , ...,  0.01060789,\n",
       "         0.01803844,  0.0061108 ]),\n",
       " array([ 0.        ,  0.00069247,  0.00121265, ...,  0.00080586,\n",
       "         0.00467428,  0.        ]),\n",
       " array([ 0.01432647,  0.        ,  0.        , ...,  0.        ,\n",
       "         0.00287479,  0.        ]),\n",
       " array([ 0.00961418,  0.        ,  0.        , ...,  0.        ,\n",
       "         0.00090544,  0.        ]),\n",
       " array([ 0.        ,  0.        ,  0.        , ...,  0.        ,\n",
       "         0.00164336,  0.00171862]),\n",
       " array([ 0.01410427,  0.03318062,  0.03855343, ...,  0.00103803,\n",
       "         0.00211973,  0.        ]),\n",
       " array([ 0.        ,  0.00327455,  0.02217649, ...,  0.        ,\n",
       "         0.00451732,  0.        ]),\n",
       " array([ 0.        ,  0.01820345,  0.        , ...,  0.01089362,\n",
       "         0.        ,  0.0174092 ]),\n",
       " array([ 0.02172756,  0.02284487,  0.02146429, ...,  0.00709556,\n",
       "         0.00349202,  0.        ]),\n",
       " array([ 0.03075197,  0.04464325,  0.02481493, ...,  0.        ,\n",
       "         0.00546424,  0.        ]),\n",
       " array([ 0.01183877,  0.        ,  0.00577437, ...,  0.01669933,\n",
       "         0.00401571,  0.        ]),\n",
       " array([ 0.04224706,  0.02205573,  0.01171239, ...,  0.        ,\n",
       "         0.00395751,  0.00382974]),\n",
       " array([ 0.        ,  0.01140113,  0.04621764, ...,  0.00734668,\n",
       "         0.        ,  0.00685381]),\n",
       " array([ 0.02604539,  0.01651627,  0.        , ...,  0.00617675,\n",
       "         0.00875521,  0.01118506]),\n",
       " array([ 0.        ,  0.        ,  0.        , ...,  0.00797887,\n",
       "         0.00858437,  0.00260164]),\n",
       " array([  6.41282171e-05,   0.00000000e+00,   5.93267955e-04, ...,\n",
       "          1.08913063e-02,   1.01322721e-02,   7.69456642e-03]),\n",
       " array([ 0.00818436,  0.01868978,  0.01798978, ...,  0.00131895,\n",
       "         0.01247986,  0.00325801]),\n",
       " array([ 0.00665829,  0.        ,  0.01167811, ...,  0.01517437,\n",
       "         0.00127173,  0.00676958]),\n",
       " array([ 0.00248139,  0.        ,  0.00174538, ...,  0.00718564,\n",
       "         0.        ,  0.        ]),\n",
       " array([ 0.02972467,  0.03511274,  0.03514218, ...,  0.00056482,\n",
       "         0.        ,  0.0035792 ]),\n",
       " array([ 0.00279236,  0.10805765,  0.20466838, ...,  0.00832471,\n",
       "         0.        ,  0.        ]),\n",
       " array([ 0.        ,  0.        ,  0.        , ...,  0.        ,\n",
       "         0.        ,  0.01083945]),\n",
       " array([ 0.        ,  0.        ,  0.00327825, ...,  0.        ,\n",
       "         0.00767435,  0.        ]),\n",
       " array([ 0.00419357,  0.01719863,  0.00335182, ...,  0.0096501 ,\n",
       "         0.01417635,  0.        ]),\n",
       " array([ 0.       ,  0.       ,  0.       , ...,  0.       ,  0.0060415,  0.       ]),\n",
       " array([ 0.        ,  0.01186658,  0.        , ...,  0.        ,\n",
       "         0.00378859,  0.00811914]),\n",
       " array([ 0.00858127,  0.01565091,  0.02203809, ...,  0.        ,\n",
       "         0.        ,  0.00705212]),\n",
       " array([ 0.01980238,  0.        ,  0.        , ...,  0.        ,\n",
       "         0.00324894,  0.00270889]),\n",
       " array([ 0.00768706,  0.        ,  0.00590632, ...,  0.00524169,\n",
       "         0.00303495,  0.00469253]),\n",
       " array([ 0.        ,  0.        ,  0.        , ...,  0.        ,\n",
       "         0.00731901,  0.        ]),\n",
       " array([ 0.,  0.,  0., ...,  0.,  0.,  0.]),\n",
       " array([ 0.        ,  0.02707928,  0.05306109, ...,  0.        ,\n",
       "         0.        ,  0.        ]),\n",
       " array([ 0.        ,  0.00285368,  0.        , ...,  0.        ,\n",
       "         0.        ,  0.00680178]),\n",
       " array([ 0.00097125,  0.00225833,  0.        , ...,  0.        ,\n",
       "         0.02349342,  0.00209805]),\n",
       " array([ 0.,  0.,  0., ...,  0.,  0.,  0.]),\n",
       " array([ 0.        ,  0.        ,  0.        , ...,  0.01539355,\n",
       "         0.01103562,  0.        ]),\n",
       " array([ 0.        ,  0.05230242,  0.01730964, ...,  0.00577022,\n",
       "         0.00533276,  0.        ]),\n",
       " array([ 0.0100398 ,  0.00385074,  0.        , ...,  0.0083609 ,\n",
       "         0.        ,  0.00478272]),\n",
       " array([ 0.        ,  0.        ,  0.        , ...,  0.01030956,\n",
       "         0.00717235,  0.00487739]),\n",
       " array([ 0.00755409,  0.        ,  0.        , ...,  0.00728256,\n",
       "         0.        ,  0.        ]),\n",
       " array([ 0.00021301,  0.        ,  0.        , ...,  0.        ,\n",
       "         0.00359399,  0.00091655]),\n",
       " array([ 0.        ,  0.        ,  0.        , ...,  0.0011957 ,\n",
       "         0.00105736,  0.00469856]),\n",
       " array([ 0.        ,  0.        ,  0.        , ...,  0.0020479 ,\n",
       "         0.        ,  0.00018053]),\n",
       " array([ 0.        ,  0.        ,  0.        , ...,  0.00832015,\n",
       "         0.        ,  0.00437347]),\n",
       " array([ 0.04281007,  0.        ,  0.04999158, ...,  0.        ,\n",
       "         0.        ,  0.00873962]),\n",
       " array([ 0.        ,  0.0114973 ,  0.00853944, ...,  0.00416037,\n",
       "         0.00037863,  0.00921893]),\n",
       " array([ 0.02742442,  0.00666502,  0.03395097, ...,  0.00910676,\n",
       "         0.02520142,  0.        ]),\n",
       " array([ 0.00615751,  0.        ,  0.        , ...,  0.0065065 ,\n",
       "         0.00311014,  0.00640492]),\n",
       " array([ 0.00835604,  0.02313102,  0.02065614, ...,  0.01230428,\n",
       "         0.        ,  0.00579291]),\n",
       " array([ 0.02207674,  0.04132418,  0.        , ...,  0.        ,\n",
       "         0.01243661,  0.        ]),\n",
       " array([ 0.        ,  0.        ,  0.        , ...,  0.00507947,\n",
       "         0.00585982,  0.00696578]),\n",
       " array([ 0.        ,  0.00147041,  0.        , ...,  0.        ,\n",
       "         0.00757245,  0.        ]),\n",
       " array([ 0.04668249,  0.07605866,  0.08498481, ...,  0.        ,\n",
       "         0.00106748,  0.01032322]),\n",
       " array([ 0.        ,  0.        ,  0.        , ...,  0.00214955,\n",
       "         0.00437261,  0.        ]),\n",
       " array([ 0.        ,  0.01923397,  0.        , ...,  0.        ,\n",
       "         0.        ,  0.        ]),\n",
       " array([ 0.        ,  0.01104905,  0.02222264, ...,  0.00760506,\n",
       "         0.00029616,  0.        ]),\n",
       " array([ 0.02350219,  0.04266704,  0.01103777, ...,  0.00873207,\n",
       "         0.00056358,  0.00836252]),\n",
       " array([ 0.04177777,  0.00030321,  0.        , ...,  0.        ,\n",
       "         0.        ,  0.00033369]),\n",
       " array([ 0.01330543,  0.00757507,  0.02551453, ...,  0.00269564,\n",
       "         0.        ,  0.        ]),\n",
       " array([ 0.        ,  0.        ,  0.00252034, ...,  0.        ,\n",
       "         0.01565194,  0.        ]),\n",
       " array([ 0.        ,  0.        ,  0.        , ...,  0.        ,\n",
       "         0.01170659,  0.        ]),\n",
       " array([ 0.04973062,  0.01874346,  0.03438478, ...,  0.        ,\n",
       "         0.        ,  0.        ]),\n",
       " array([ 0.02249515,  0.        ,  0.        , ...,  0.        ,\n",
       "         0.00863653,  0.        ]),\n",
       " array([ 0.00070617,  0.02413386,  0.0204423 , ...,  0.        ,\n",
       "         0.        ,  0.        ]),\n",
       " array([  0.00000000e+00,   0.00000000e+00,   0.00000000e+00, ...,\n",
       "          0.00000000e+00,   5.59957703e-05,   0.00000000e+00]),\n",
       " array([ 0.0250854 ,  0.0128987 ,  0.00920669, ...,  0.        ,\n",
       "         0.        ,  0.00709916]),\n",
       " array([ 0.02137958,  0.03016208,  0.00828061, ...,  0.01062097,\n",
       "         0.        ,  0.00050001]),\n",
       " array([ 0.00463443,  0.01188542,  0.        , ...,  0.        ,\n",
       "         0.01448723,  0.        ]),\n",
       " array([ 0.        ,  0.03974606,  0.        , ...,  0.00733851,\n",
       "         0.00907272,  0.02112638]),\n",
       " array([ 0.        ,  0.00513539,  0.01278692, ...,  0.        ,\n",
       "         0.        ,  0.        ]),\n",
       " array([ 0.04967204,  0.0048419 ,  0.        , ...,  0.        ,\n",
       "         0.        ,  0.01187347]),\n",
       " array([ 0.01053257,  0.01350959,  0.        , ...,  0.000844  ,\n",
       "         0.        ,  0.0006666 ]),\n",
       " array([ 0.        ,  0.00019729,  0.00681138, ...,  0.00681843,\n",
       "         0.00859246,  0.00699542]),\n",
       " array([ 0.        ,  0.        ,  0.03238061, ...,  0.        ,\n",
       "         0.00401274,  0.        ]),\n",
       " array([ 0.00020949,  0.00581511,  0.        , ...,  0.        ,\n",
       "         0.01088548,  0.00160731]),\n",
       " array([ 0.00736359,  0.        ,  0.        , ...,  0.        ,\n",
       "         0.01430619,  0.        ]),\n",
       " array([ 0.03070427,  0.        ,  0.00772883, ...,  0.        ,\n",
       "         0.        ,  0.01532209]),\n",
       " array([ 0.00855603,  0.        ,  0.00417311, ...,  0.        ,\n",
       "         0.00403292,  0.        ]),\n",
       " array([ 0.        ,  0.        ,  0.02720033, ...,  0.00054487,\n",
       "         0.01234537,  0.        ]),\n",
       " array([ 0.        ,  0.        ,  0.        , ...,  0.00687788,\n",
       "         0.        ,  0.        ]),\n",
       " array([ 0.        ,  0.01619523,  0.00887163, ...,  0.        ,\n",
       "         0.        ,  0.01210037]),\n",
       " array([ 0.        ,  0.02468445,  0.        , ...,  0.01985548,\n",
       "         0.        ,  0.00204329]),\n",
       " array([ 0.03808408,  0.00898554,  0.02591616, ...,  0.00510189,\n",
       "         0.0033849 ,  0.01503233]),\n",
       " array([ 0.01790101,  0.0523947 ,  0.03980284, ...,  0.00381893,\n",
       "         0.0059625 ,  0.        ]),\n",
       " array([ 0.        ,  0.00355008,  0.        , ...,  0.01146591,\n",
       "         0.00337396,  0.0017964 ]),\n",
       " array([ 0.02887118,  0.        ,  0.00806342, ...,  0.        ,\n",
       "         0.        ,  0.00714239]),\n",
       " array([ 0.        ,  0.        ,  0.        , ...,  0.00512091,\n",
       "         0.        ,  0.00145773]),\n",
       " array([ 0.        ,  0.03256295,  0.02980143, ...,  0.00306391,\n",
       "         0.00659354,  0.        ]),\n",
       " array([ 0.        ,  0.        ,  0.        , ...,  0.00556562,\n",
       "         0.        ,  0.00554352]),\n",
       " array([ 0.        ,  0.01754464,  0.        , ...,  0.00602501,\n",
       "         0.        ,  0.00281741]),\n",
       " array([ 0.        ,  0.00565206,  0.        , ...,  0.00471105,\n",
       "         0.00315438,  0.        ]),\n",
       " array([ 0.        ,  0.05039319,  0.00365624, ...,  0.00109361,\n",
       "         0.01038163,  0.00253302]),\n",
       " array([ 0.05078593,  0.        ,  0.0006142 , ...,  0.        ,\n",
       "         0.        ,  0.00110367]),\n",
       " array([ 0.00088295,  0.00373986,  0.0029407 , ...,  0.01400417,\n",
       "         0.01058339,  0.        ]),\n",
       " array([ 0.019224  ,  0.00883175,  0.01044712, ...,  0.00654596,\n",
       "         0.01028307,  0.        ]),\n",
       " array([ 0.        ,  0.        ,  0.02126088, ...,  0.        ,\n",
       "         0.        ,  0.        ]),\n",
       " array([ 0.        ,  0.02997869,  0.        , ...,  0.01096877,\n",
       "         0.01319613,  0.01103502]),\n",
       " array([ 0.        ,  0.        ,  0.        , ...,  0.00194571,\n",
       "         0.        ,  0.        ]),\n",
       " array([ 0.        ,  0.        ,  0.        , ...,  0.00464586,\n",
       "         0.01181189,  0.        ]),\n",
       " array([ 0.,  0.,  0., ...,  0.,  0.,  0.]),\n",
       " array([ 0.00790871,  0.00697067,  0.00124644, ...,  0.        ,\n",
       "         0.01601035,  0.00640619])]"
      ]
     },
     "execution_count": 1097,
     "metadata": {},
     "output_type": "execute_result"
    }
   ],
   "source": [
    "np.hstack=[(expandedweights[:,[i]] * lda.components_[0].T).mean(1) for i in range(0,400)]"
   ]
  },
  {
   "cell_type": "code",
   "execution_count": 1078,
   "metadata": {},
   "outputs": [
    {
     "data": {
      "text/plain": [
       "(400,)"
      ]
     },
     "execution_count": 1078,
     "metadata": {},
     "output_type": "execute_result"
    }
   ],
   "source": [
    "lda.components_[0].shape"
   ]
  },
  {
   "cell_type": "code",
   "execution_count": null,
   "metadata": {
    "collapsed": true
   },
   "outputs": [],
   "source": [
    "lda"
   ]
  },
  {
   "cell_type": "markdown",
   "metadata": {},
   "source": [
    "## Clusters words from autoencoder weights"
   ]
  },
  {
   "cell_type": "code",
   "execution_count": 89,
   "metadata": {
    "collapsed": true
   },
   "outputs": [],
   "source": [
    "from scipy.cluster import hierarchy"
   ]
  },
  {
   "cell_type": "code",
   "execution_count": 172,
   "metadata": {
    "collapsed": true
   },
   "outputs": [],
   "source": [
    "Z = hierarchy.linkage(term_weights, method='ward')"
   ]
  },
  {
   "cell_type": "code",
   "execution_count": 530,
   "metadata": {
    "scrolled": false
   },
   "outputs": [
    {
     "name": "stdout",
     "output_type": "stream",
     "text": [
      "1 c., serving, yield, pkg, owc, pres, afb\n",
      "2 l, lb, t, mrs., casserole, c, degree, tsp, margarine, t.\n",
      "3 mix, ingredient, salad, vinegar, celery, mince, dress, dice, lettuce, mustard\n",
      "4 dry, large, fresh, tomato, taste, garlic, red, peel, ground, clove\n",
      "5 green\n",
      "6 cheese, grate, sprinkle, crumb\n",
      "7 salt, pepper, chop, onion, season, parsley\n",
      "8 cream, juice, lemon, whip, chill\n",
      "9 serve\n",
      "10 combine\n",
      "11 water, boil\n",
      "12 add\n",
      "13 cover, hour, let, stand, quart, jar, night, kettle, morning, next\n",
      "14 teaspoonful, tablespoonful, cupful\n",
      "15 cold, soft, dissolve, double, boiler, scald, enough\n",
      "16 place\n",
      "17 remove\n",
      "18 roll, work, round, size, shape, hand, press, sheet, center, edge\n",
      "19 dough, warm, loaf, rise, yeast, knead, lukewarm, bulk, active, elastic\n",
      "20 smooth\n",
      "21 wine, dinner, hold, au, meet, occasion, fare, chateau, wines, grand\n",
      "22 la, chef, guest, present, hotel, port, champagne, le, society, member\n",
      "23 y, se, el, que, sal, para, una, con, en, por\n",
      "24 break, fork, burn, air, manner, appear, wet, touch, careful, obtain\n",
      "25 form, follow, great, give, keep, require, part, point, kind, possible\n",
      "26 time, food, need, method, necessary, depend, amount, more\n",
      "27 use, be, many, other\n",
      "28 cook\n",
      "29 pour, pint, saucepan, strain, ﬁre, quantity, sieve, skim, stewpan, few\n",
      "30 hot, turn, fry, table, well, breakfast, dust, lump, basin, breadcrumb\n",
      "31 small, dish, prepare, garnish, arrange, side\n",
      "32 come, know, look, do, say, go, thing, think, try, want\n",
      "33 year, people, home, family, man, buy, life, start, like, sure\n",
      "34 have\n",
      "35 young, a., mr., e., m., l., w., j., b., company\n",
      "36 fish, oz, shell, ﬁsh, g, plate, platter, glaze, trim, pass\n",
      "37 ~, paste, drop, v, mixed, head, pinch, preparation, stuffed, ml\n",
      "38 sauce, bread, potato, mushroom, stock, carrot, broth, toast, oyster, herb\n",
      "39 \", m, x, r, j, ib, equal, s, 1, blanch\n",
      "40 |, ball, ii, lard, raw, produce, wheat, biscuit, w, sandwich\n",
      "41 new, book, american, country, world, english, live, write, york, cookery\n",
      "42 old, open, f, lobster, restaurant, ﬁrst, __, california, house, child\n",
      "43 oil, medium, ginger, low, soy, high, begin, skillet, continue, second\n",
      "44 minute, simmer, bring, reduce\n",
      "45 stir, heat, thicken\n",
      "46 fruit, orange, ice, pineapple, desire, crush, mold, cherry, refrigerator, dessert\n",
      "47 sugar, cake, cool, vanilla, chocolate, syrup, rind, powdered, extract, frost\n",
      "48 pie, spread, layer, pudding, fill, fold, pastry, top, heavy, crust\n",
      "49 set, paper, liquid, spoon, pot, golden, temperature, stick, room, line\n",
      "50 mixture, bowl, remain, blend, soften\n",
      "51 preheat\n",
      "52 q, k, kidney, step, range, dumpling, word, £, mexico, ear\n",
      "53 _, ', e, almond, steam, frozen, ...., p, honey, /\n",
      "54 rice, vegetable, soup, bean, recipe, corn, page, way, eat, french\n",
      "55 *, curry, see, h, clam, week, box, ll, pumpkin, party\n",
      "56 sweet, --, \\, best, hard, no, chile, coconut, salmon, grow\n",
      "57 %, light, one, sour, cinnamon, nuts, raisin, walnut, cookie, tin\n",
      "58 pound, drain, ounce, day, apple, wash, allow, glass, soak, jelly\n",
      "59 meat, chicken, fat, beef, pork, tender, roast, ham, bacon, fried\n",
      "60 slice, piece, strip, length, lengthwise, thin\n",
      "61 leave, inch, seed, skin, shrimp, end, deep, cabbage, square, long\n",
      "62 cut\n",
      "63 little, put, take, lay\n",
      "64 diſh, ſalt, ſugar, ſmall, ſome, ſweet, ſauce, ſet, ſpoonful, freſh\n",
      "65 half, make, good, clean, fine, ﬁne, ready, nutmeg, quarter, rub\n",
      "66 cup, tablespoon, teaspoon\n",
      "67 egg, white, beat, yolk, stiff\n",
      "68 flour, baking, powder, sift, soda, grease, shorten\n",
      "69 butter, milk, bake, pan, oven, melt, ﬂour, batter, moderate\n",
      "70 brown\n"
     ]
    }
   ],
   "source": [
    "n = 70\n",
    "c = hierarchy.fcluster(Z, n, criterion='maxclust')\n",
    "d = pd.Series(c)\n",
    "for cluster in range(1,n+1):\n",
    "    wordsample = dictionary.token[d==cluster].iloc[:10].tolist()\n",
    "    print(cluster, \", \".join(wordsample))"
   ]
  },
  {
   "cell_type": "code",
   "execution_count": 531,
   "metadata": {
    "collapsed": true
   },
   "outputs": [],
   "source": [
    "#To do: distributions by year for different clusters"
   ]
  },
  {
   "cell_type": "markdown",
   "metadata": {},
   "source": [
    "## Cluster on a specific word\n",
    "\n",
    "Find pages that *exactly* match a query, then use the auto-encoder weights to cluster the pages. e.g. cluster on pages that talk about 'cookies'"
   ]
  },
  {
   "cell_type": "code",
   "execution_count": null,
   "metadata": {
    "collapsed": true
   },
   "outputs": [],
   "source": [
    "from sklearn.cluster import KMeans"
   ]
  },
  {
   "cell_type": "code",
   "execution_count": 1483,
   "metadata": {
    "collapsed": true
   },
   "outputs": [],
   "source": [
    "q = \"salmon\"\n",
    "qids = dictionary[dictionary.token == q].id.values\n",
    "matchpages = (X_train[:, qids] > 0).toarray()[:,0]\n",
    "# Public Domain, so we can view pages. Also, hopefully more esoterica\n",
    "matchpagespd = (matchpages & pdpagefilter[:250000])\n",
    "matchdata = all_transformed[matchpagespd,:]"
   ]
  },
  {
   "cell_type": "code",
   "execution_count": 1484,
   "metadata": {},
   "outputs": [
    {
     "data": {
      "text/plain": [
       "2    740\n",
       "1    474\n",
       "8    211\n",
       "5    205\n",
       "7    131\n",
       "6    114\n",
       "0     61\n",
       "3     25\n",
       "4     16\n",
       "9     10\n",
       "dtype: int64"
      ]
     },
     "execution_count": 1484,
     "metadata": {},
     "output_type": "execute_result"
    }
   ],
   "source": [
    "kmeans = KMeans(n_clusters=10)\n",
    "Z = kmeans.fit_predict(matchdata)\n",
    "pd.Series(Z).value_counts()"
   ]
  },
  {
   "cell_type": "code",
   "execution_count": 1485,
   "metadata": {
    "scrolled": true
   },
   "outputs": [
    {
     "data": {
      "text/plain": [
       "9     387\n",
       "39    200\n",
       "5     161\n",
       "30     91\n",
       "36     89\n",
       "13     88\n",
       "26     77\n",
       "14     71\n",
       "27     68\n",
       "1      63\n",
       "8      61\n",
       "7      60\n",
       "0      55\n",
       "32     50\n",
       "19     45\n",
       "29     40\n",
       "21     37\n",
       "6      34\n",
       "11     32\n",
       "3      32\n",
       "20     31\n",
       "33     24\n",
       "23     23\n",
       "15     22\n",
       "38     18\n",
       "35     16\n",
       "4      15\n",
       "2      15\n",
       "24     15\n",
       "25     11\n",
       "28     10\n",
       "12      9\n",
       "22      7\n",
       "10      6\n",
       "34      6\n",
       "16      5\n",
       "31      5\n",
       "18      4\n",
       "17      3\n",
       "37      1\n",
       "dtype: int64"
      ]
     },
     "execution_count": 1485,
     "metadata": {},
     "output_type": "execute_result"
    }
   ],
   "source": [
    "# After a manual review of the first cookie clusters,\n",
    "# Trim the clusters that aren't really about cookie recipes,\n",
    "# or where page lengths are distractingly long\n",
    "exclude = [] #[4, 6, 7, 3,2,0]\n",
    "Zfilter = ~np.in1d(Z,exclude)\n",
    "kmeans = KMeans(n_clusters=40)\n",
    "Y = kmeans.fit_predict(matchdata[Zfilter])\n",
    "pd.Series(Y).value_counts()"
   ]
  },
  {
   "cell_type": "code",
   "execution_count": 1486,
   "metadata": {
    "scrolled": false
   },
   "outputs": [
    {
     "name": "stdout",
     "output_type": "stream",
     "text": [
      "9\n"
     ]
    },
    {
     "data": {
      "text/html": [
       "<img style='float:left' src='https://babel.hathitrust.org/cgi/imgsrv/image?id=uc1.31822031019938;seq=71;height=550' /><img style='float:left' src='https://babel.hathitrust.org/cgi/imgsrv/image?id=uc1.31822037854882;seq=17;height=550' />"
      ],
      "text/plain": [
       "<IPython.core.display.HTML object>"
      ]
     },
     "metadata": {},
     "output_type": "display_data"
    },
    {
     "name": "stdout",
     "output_type": "stream",
     "text": [
      "39\n"
     ]
    },
    {
     "data": {
      "text/html": [
       "<img style='float:left' src='https://babel.hathitrust.org/cgi/imgsrv/image?id=uc1.31822031021934;seq=16;height=550' /><img style='float:left' src='https://babel.hathitrust.org/cgi/imgsrv/image?id=uc2.ark:/13960/t42r3pm6g;seq=243;height=550' />"
      ],
      "text/plain": [
       "<IPython.core.display.HTML object>"
      ]
     },
     "metadata": {},
     "output_type": "display_data"
    },
    {
     "name": "stdout",
     "output_type": "stream",
     "text": [
      "5\n"
     ]
    },
    {
     "data": {
      "text/html": [
       "<img style='float:left' src='https://babel.hathitrust.org/cgi/imgsrv/image?id=uc1.31822037856010;seq=75;height=550' /><img style='float:left' src='https://babel.hathitrust.org/cgi/imgsrv/image?id=uiuo.ark:/13960/t54f1rg90;seq=69;height=550' />"
      ],
      "text/plain": [
       "<IPython.core.display.HTML object>"
      ]
     },
     "metadata": {},
     "output_type": "display_data"
    },
    {
     "name": "stdout",
     "output_type": "stream",
     "text": [
      "30\n"
     ]
    },
    {
     "data": {
      "text/html": [
       "<img style='float:left' src='https://babel.hathitrust.org/cgi/imgsrv/image?id=uc1.31822035088426;seq=125;height=550' /><img style='float:left' src='https://babel.hathitrust.org/cgi/imgsrv/image?id=uc1.31822033773862;seq=44;height=550' />"
      ],
      "text/plain": [
       "<IPython.core.display.HTML object>"
      ]
     },
     "metadata": {},
     "output_type": "display_data"
    },
    {
     "name": "stdout",
     "output_type": "stream",
     "text": [
      "36\n"
     ]
    },
    {
     "data": {
      "text/html": [
       "<img style='float:left' src='https://babel.hathitrust.org/cgi/imgsrv/image?id=nyp.33433017316526;seq=412;height=550' /><img style='float:left' src='https://babel.hathitrust.org/cgi/imgsrv/image?id=uc1.31822031019649;seq=192;height=550' />"
      ],
      "text/plain": [
       "<IPython.core.display.HTML object>"
      ]
     },
     "metadata": {},
     "output_type": "display_data"
    }
   ],
   "source": [
    "for cluster in [9, 39, 5, 30, 36]:\n",
    "    page_ids = extended_page_ref.iloc[:250000][matchpagespd][Zfilter][(Y == cluster)].sample(2).index\n",
    "    print(cluster)\n",
    "    display(page_images(page_ids[:2]))"
   ]
  },
  {
   "cell_type": "code",
   "execution_count": 1198,
   "metadata": {},
   "outputs": [
    {
     "data": {
      "text/plain": [
       "array([False, False, False, ..., False, False, False], dtype=bool)"
      ]
     },
     "execution_count": 1198,
     "metadata": {},
     "output_type": "execute_result"
    }
   ],
   "source": [
    "Z = hierarchy.linkage(term_weights, method='ward')\n",
    "n = 20\n",
    "c = hierarchy.fcluster(Z, n, criterion='maxclust')\n",
    "d = pd.Series(c)\n",
    "for cluster in range(1,n+1):\n",
    "    wordsample = dictionary.token[d==cluster].iloc[:10].tolist()\n",
    "    print(cluster, \", \".join(wordsample))"
   ]
  },
  {
   "cell_type": "markdown",
   "metadata": {},
   "source": [
    "## 'Burrowing' Search\n",
    "\n",
    "A fun idea for exploring the clusters. Using agglomerative clustering on the public domain pages:\n",
    "\n",
    "    1. split the tree into four clusters\n",
    "    2. show examples of each cluster for selection\n",
    "    3. cut tree "
   ]
  },
  {
   "cell_type": "code",
   "execution_count": 1330,
   "metadata": {
    "collapsed": true
   },
   "outputs": [],
   "source": [
    "Z = hierarchy.linkage(all_transformed[pdpagefilter[:250000]], method='ward')"
   ]
  },
  {
   "cell_type": "code",
   "execution_count": 1333,
   "metadata": {},
   "outputs": [
    {
     "data": {
      "text/plain": [
       "(71720, 200)"
      ]
     },
     "execution_count": 1333,
     "metadata": {},
     "output_type": "execute_result"
    }
   ],
   "source": [
    "all_transformed[pdpagefilter[:250000]].shape"
   ]
  },
  {
   "cell_type": "code",
   "execution_count": 1362,
   "metadata": {
    "collapsed": true
   },
   "outputs": [],
   "source": [
    "pdpageids = pdpagefilter[:250000][pdpagefilter[:250000]].index.values"
   ]
  },
  {
   "cell_type": "code",
   "execution_count": 1351,
   "metadata": {},
   "outputs": [
    {
     "data": {
      "text/plain": [
       "array([[   0,    0,    0, ...,    0,    0,    0],\n",
       "       [   0,    0,    0, ...,    0,    0,    0],\n",
       "       [   0,    0,    0, ...,    0,    0,    0],\n",
       "       ..., \n",
       "       [   1,    3,    4, ..., 1717, 2996, 4664],\n",
       "       [   1,    3,    4, ...,  491,  610,  786],\n",
       "       [   1,    3,    4, ..., 2059, 3794, 5938]])"
      ]
     },
     "execution_count": 1351,
     "metadata": {},
     "output_type": "execute_result"
    }
   ],
   "source": [
    "a = hierarchy.cut_tree(Z, n_clusters=[2**i for i in range(2, 15)])"
   ]
  },
  {
   "cell_type": "code",
   "execution_count": null,
   "metadata": {
    "collapsed": true
   },
   "outputs": [],
   "source": [
    "a[:,level]"
   ]
  },
  {
   "cell_type": "code",
   "execution_count": 1491,
   "metadata": {
    "collapsed": true
   },
   "outputs": [],
   "source": [
    "include = np.array([True]*a.shape[0])\n",
    "level = 0"
   ]
  },
  {
   "cell_type": "code",
   "execution_count": 1493,
   "metadata": {},
   "outputs": [
    {
     "name": "stdout",
     "output_type": "stream",
     "text": [
      "2\n"
     ]
    }
   ],
   "source": [
    "include = (clusters==1)\n",
    "level += 2\n",
    "print(level)"
   ]
  },
  {
   "cell_type": "code",
   "execution_count": 1494,
   "metadata": {
    "scrolled": false
   },
   "outputs": [
    {
     "name": "stdout",
     "output_type": "stream",
     "text": [
      "Choose a cluster\n",
      "Cluster 4, with 12766 pages\n"
     ]
    },
    {
     "data": {
      "text/html": [
       "<img style='float:left' src='https://babel.hathitrust.org/cgi/imgsrv/image?id=nyp.33433082173828;seq=99;height=550' /><img style='float:left' src='https://babel.hathitrust.org/cgi/imgsrv/image?id=uc1.31822035084631;seq=54;height=550' /><img style='float:left' src='https://babel.hathitrust.org/cgi/imgsrv/image?id=uc1.31822031019417;seq=452;height=550' /><img style='float:left' src='https://babel.hathitrust.org/cgi/imgsrv/image?id=hvd.32044087429726;seq=234;height=550' />"
      ],
      "text/plain": [
       "<IPython.core.display.HTML object>"
      ]
     },
     "metadata": {},
     "output_type": "display_data"
    },
    {
     "name": "stdout",
     "output_type": "stream",
     "text": [
      "Cluster 5, with 3420 pages\n"
     ]
    },
    {
     "data": {
      "text/html": [
       "<img style='float:left' src='https://babel.hathitrust.org/cgi/imgsrv/image?id=osu.32435068845387;seq=122;height=550' /><img style='float:left' src='https://babel.hathitrust.org/cgi/imgsrv/image?id=nyp.33433017316526;seq=588;height=550' /><img style='float:left' src='https://babel.hathitrust.org/cgi/imgsrv/image?id=uc1.31822031038110;seq=297;height=550' /><img style='float:left' src='https://babel.hathitrust.org/cgi/imgsrv/image?id=uc1.31822031038177;seq=368;height=550' />"
      ],
      "text/plain": [
       "<IPython.core.display.HTML object>"
      ]
     },
     "metadata": {},
     "output_type": "display_data"
    },
    {
     "name": "stdout",
     "output_type": "stream",
     "text": [
      "Cluster 6, with 2960 pages\n"
     ]
    },
    {
     "data": {
      "text/html": [
       "<img style='float:left' src='https://babel.hathitrust.org/cgi/imgsrv/image?id=uc1.31822035086289;seq=170;height=550' /><img style='float:left' src='https://babel.hathitrust.org/cgi/imgsrv/image?id=uc1.31822031021876;seq=69;height=550' /><img style='float:left' src='https://babel.hathitrust.org/cgi/imgsrv/image?id=uc1.31822035090349;seq=80;height=550' /><img style='float:left' src='https://babel.hathitrust.org/cgi/imgsrv/image?id=uc1.31822031042807;seq=183;height=550' />"
      ],
      "text/plain": [
       "<IPython.core.display.HTML object>"
      ]
     },
     "metadata": {},
     "output_type": "display_data"
    },
    {
     "name": "stdout",
     "output_type": "stream",
     "text": [
      "Cluster 7, with 4023 pages\n"
     ]
    },
    {
     "data": {
      "text/html": [
       "<img style='float:left' src='https://babel.hathitrust.org/cgi/imgsrv/image?id=uc1.31822031026818;seq=273;height=550' /><img style='float:left' src='https://babel.hathitrust.org/cgi/imgsrv/image?id=uc1.31822031027055;seq=224;height=550' /><img style='float:left' src='https://babel.hathitrust.org/cgi/imgsrv/image?id=uc1.31822031035520;seq=215;height=550' /><img style='float:left' src='https://babel.hathitrust.org/cgi/imgsrv/image?id=uc1.31822031037666;seq=13;height=550' />"
      ],
      "text/plain": [
       "<IPython.core.display.HTML object>"
      ]
     },
     "metadata": {},
     "output_type": "display_data"
    },
    {
     "name": "stdout",
     "output_type": "stream",
     "text": [
      "Cluster 9, with 2678 pages\n"
     ]
    },
    {
     "data": {
      "text/html": [
       "<img style='float:left' src='https://babel.hathitrust.org/cgi/imgsrv/image?id=uc1.31822035089820;seq=57;height=550' /><img style='float:left' src='https://babel.hathitrust.org/cgi/imgsrv/image?id=uc1.31822031020670;seq=132;height=550' /><img style='float:left' src='https://babel.hathitrust.org/cgi/imgsrv/image?id=uc1.31822031027337;seq=42;height=550' /><img style='float:left' src='https://babel.hathitrust.org/cgi/imgsrv/image?id=uc1.31822031020548;seq=74;height=550' />"
      ],
      "text/plain": [
       "<IPython.core.display.HTML object>"
      ]
     },
     "metadata": {},
     "output_type": "display_data"
    },
    {
     "name": "stdout",
     "output_type": "stream",
     "text": [
      "Cluster 10, with 772 pages\n"
     ]
    },
    {
     "data": {
      "text/html": [
       "<img style='float:left' src='https://babel.hathitrust.org/cgi/imgsrv/image?id=uc1.c027473005;seq=1034;height=550' /><img style='float:left' src='https://babel.hathitrust.org/cgi/imgsrv/image?id=uc1.31822031020399;seq=90;height=550' /><img style='float:left' src='https://babel.hathitrust.org/cgi/imgsrv/image?id=uc1.31822031038482;seq=27;height=550' /><img style='float:left' src='https://babel.hathitrust.org/cgi/imgsrv/image?id=uc1.31822031019292;seq=13;height=550' />"
      ],
      "text/plain": [
       "<IPython.core.display.HTML object>"
      ]
     },
     "metadata": {},
     "output_type": "display_data"
    },
    {
     "name": "stdout",
     "output_type": "stream",
     "text": [
      "Cluster 11, with 438 pages\n"
     ]
    },
    {
     "data": {
      "text/html": [
       "<img style='float:left' src='https://babel.hathitrust.org/cgi/imgsrv/image?id=uc1.31822031027337;seq=100;height=550' /><img style='float:left' src='https://babel.hathitrust.org/cgi/imgsrv/image?id=uc1.31822031020845;seq=135;height=550' /><img style='float:left' src='https://babel.hathitrust.org/cgi/imgsrv/image?id=uc1.31822031020845;seq=136;height=550' /><img style='float:left' src='https://babel.hathitrust.org/cgi/imgsrv/image?id=uc1.31822031020787;seq=108;height=550' />"
      ],
      "text/plain": [
       "<IPython.core.display.HTML object>"
      ]
     },
     "metadata": {},
     "output_type": "display_data"
    },
    {
     "name": "stdout",
     "output_type": "stream",
     "text": [
      "Cluster 13, with 1716 pages\n"
     ]
    },
    {
     "data": {
      "text/html": [
       "<img style='float:left' src='https://babel.hathitrust.org/cgi/imgsrv/image?id=uc1.c027473005;seq=382;height=550' /><img style='float:left' src='https://babel.hathitrust.org/cgi/imgsrv/image?id=uc1.c027473005;seq=706;height=550' /><img style='float:left' src='https://babel.hathitrust.org/cgi/imgsrv/image?id=uc1.c027473005;seq=448;height=550' /><img style='float:left' src='https://babel.hathitrust.org/cgi/imgsrv/image?id=uc1.31822031022056;seq=370;height=550' />"
      ],
      "text/plain": [
       "<IPython.core.display.HTML object>"
      ]
     },
     "metadata": {},
     "output_type": "display_data"
    }
   ],
   "source": [
    "clusters = pd.Series(a[:,level], index=pdpageids)\n",
    "\n",
    "print(\"Choose a cluster\")\n",
    "for cluster in clusters[include].unique():\n",
    "    print(\"Cluster %d, with %d pages\" % (cluster, clusters[clusters==cluster].count()))\n",
    "    sample = clusters[clusters==cluster].sample(4).index\n",
    "    display(page_images(sample))"
   ]
  },
  {
   "cell_type": "code",
   "execution_count": 1385,
   "metadata": {},
   "outputs": [
    {
     "data": {
      "text/plain": [
       "array([0, 1, 2, 3, 4, 5, 6, 7])"
      ]
     },
     "execution_count": 1385,
     "metadata": {},
     "output_type": "execute_result"
    }
   ],
   "source": [
    "clusters.unique()"
   ]
  },
  {
   "cell_type": "code",
   "execution_count": 1387,
   "metadata": {},
   "outputs": [
    {
     "data": {
      "text/plain": [
       "array([3, 4, 5])"
      ]
     },
     "execution_count": 1387,
     "metadata": {},
     "output_type": "execute_result"
    }
   ],
   "source": [
    "clusters[include].unique()"
   ]
  },
  {
   "cell_type": "code",
   "execution_count": 1371,
   "metadata": {
    "scrolled": true
   },
   "outputs": [
    {
     "data": {
      "text/html": [
       "<img style='float:left' src='https://babel.hathitrust.org/cgi/imgsrv/image?id=uc1.31822031021231;seq=92;height=550' /><img style='float:left' src='https://babel.hathitrust.org/cgi/imgsrv/image?id=gri.ark:/13960/t0tq6450n;seq=394;height=550' />"
      ],
      "text/plain": [
       "<IPython.core.display.HTML object>"
      ]
     },
     "execution_count": 1371,
     "metadata": {},
     "output_type": "execute_result"
    }
   ],
   "source": [
    "page_images(clusters[clusters==cluster].sample(2).index)"
   ]
  },
  {
   "cell_type": "code",
   "execution_count": 1350,
   "metadata": {
    "scrolled": true
   },
   "outputs": [
    {
     "data": {
      "text/plain": [
       "[4, 8, 16, 32, 64, 128, 256, 512, 1024, 2048, 4096, 8192, 16384]"
      ]
     },
     "execution_count": 1350,
     "metadata": {},
     "output_type": "execute_result"
    }
   ],
   "source": [
    "[2**i for i in range(2, 15)]"
   ]
  },
  {
   "cell_type": "code",
   "execution_count": 1340,
   "metadata": {},
   "outputs": [
    {
     "ename": "ValueError",
     "evalue": "Linkage 'Z' uses non-singleton cluster before it is formed.",
     "output_type": "error",
     "traceback": [
      "\u001b[0;31m---------------------------------------------------------------------------\u001b[0m",
      "\u001b[0;31mValueError\u001b[0m                                Traceback (most recent call last)",
      "\u001b[0;32m<ipython-input-1340-91a7cd8fde79>\u001b[0m in \u001b[0;36m<module>\u001b[0;34m()\u001b[0m\n\u001b[0;32m----> 1\u001b[0;31m \u001b[0mhierarchy\u001b[0m\u001b[0;34m.\u001b[0m\u001b[0mcut_tree\u001b[0m\u001b[0;34m(\u001b[0m\u001b[0mZ\u001b[0m\u001b[0;34m[\u001b[0m\u001b[0;34m:\u001b[0m\u001b[0;36m100\u001b[0m\u001b[0;34m,\u001b[0m \u001b[0;34m:\u001b[0m\u001b[0;34m]\u001b[0m\u001b[0;34m,\u001b[0m \u001b[0mn_clusters\u001b[0m\u001b[0;34m=\u001b[0m\u001b[0;36m4\u001b[0m\u001b[0;34m)\u001b[0m\u001b[0;34m\u001b[0m\u001b[0m\n\u001b[0m",
      "\u001b[0;32m/opt/conda/lib/python3.5/site-packages/scipy/cluster/hierarchy.py\u001b[0m in \u001b[0;36mcut_tree\u001b[0;34m(Z, n_clusters, height)\u001b[0m\n\u001b[1;32m    963\u001b[0m \u001b[0;34m\u001b[0m\u001b[0m\n\u001b[1;32m    964\u001b[0m     \"\"\"\n\u001b[0;32m--> 965\u001b[0;31m     \u001b[0mnobs\u001b[0m \u001b[0;34m=\u001b[0m \u001b[0mnum_obs_linkage\u001b[0m\u001b[0;34m(\u001b[0m\u001b[0mZ\u001b[0m\u001b[0;34m)\u001b[0m\u001b[0;34m\u001b[0m\u001b[0m\n\u001b[0m\u001b[1;32m    966\u001b[0m     \u001b[0mnodes\u001b[0m \u001b[0;34m=\u001b[0m \u001b[0m_order_cluster_tree\u001b[0m\u001b[0;34m(\u001b[0m\u001b[0mZ\u001b[0m\u001b[0;34m)\u001b[0m\u001b[0;34m\u001b[0m\u001b[0m\n\u001b[1;32m    967\u001b[0m \u001b[0;34m\u001b[0m\u001b[0m\n",
      "\u001b[0;32m/opt/conda/lib/python3.5/site-packages/scipy/cluster/hierarchy.py\u001b[0m in \u001b[0;36mnum_obs_linkage\u001b[0;34m(Z)\u001b[0m\n\u001b[1;32m   1532\u001b[0m     \"\"\"\n\u001b[1;32m   1533\u001b[0m     \u001b[0mZ\u001b[0m \u001b[0;34m=\u001b[0m \u001b[0mnp\u001b[0m\u001b[0;34m.\u001b[0m\u001b[0masarray\u001b[0m\u001b[0;34m(\u001b[0m\u001b[0mZ\u001b[0m\u001b[0;34m,\u001b[0m \u001b[0morder\u001b[0m\u001b[0;34m=\u001b[0m\u001b[0;34m'c'\u001b[0m\u001b[0;34m)\u001b[0m\u001b[0;34m\u001b[0m\u001b[0m\n\u001b[0;32m-> 1534\u001b[0;31m     \u001b[0mis_valid_linkage\u001b[0m\u001b[0;34m(\u001b[0m\u001b[0mZ\u001b[0m\u001b[0;34m,\u001b[0m \u001b[0mthrow\u001b[0m\u001b[0;34m=\u001b[0m\u001b[0;32mTrue\u001b[0m\u001b[0;34m,\u001b[0m \u001b[0mname\u001b[0m\u001b[0;34m=\u001b[0m\u001b[0;34m'Z'\u001b[0m\u001b[0;34m)\u001b[0m\u001b[0;34m\u001b[0m\u001b[0m\n\u001b[0m\u001b[1;32m   1535\u001b[0m     \u001b[0;32mreturn\u001b[0m \u001b[0;34m(\u001b[0m\u001b[0mZ\u001b[0m\u001b[0;34m.\u001b[0m\u001b[0mshape\u001b[0m\u001b[0;34m[\u001b[0m\u001b[0;36m0\u001b[0m\u001b[0;34m]\u001b[0m \u001b[0;34m+\u001b[0m \u001b[0;36m1\u001b[0m\u001b[0;34m)\u001b[0m\u001b[0;34m\u001b[0m\u001b[0m\n\u001b[1;32m   1536\u001b[0m \u001b[0;34m\u001b[0m\u001b[0m\n",
      "\u001b[0;32m/opt/conda/lib/python3.5/site-packages/scipy/cluster/hierarchy.py\u001b[0m in \u001b[0;36mis_valid_linkage\u001b[0;34m(Z, warning, throw, name)\u001b[0m\n\u001b[1;32m   1472\u001b[0m         \u001b[0;32mif\u001b[0m \u001b[0m_check_hierarchy_uses_cluster_before_formed\u001b[0m\u001b[0;34m(\u001b[0m\u001b[0mZ\u001b[0m\u001b[0;34m)\u001b[0m\u001b[0;34m:\u001b[0m\u001b[0;34m\u001b[0m\u001b[0m\n\u001b[1;32m   1473\u001b[0m             raise ValueError('Linkage %suses non-singleton cluster before '\n\u001b[0;32m-> 1474\u001b[0;31m                              'it is formed.' % name_str)\n\u001b[0m\u001b[1;32m   1475\u001b[0m         \u001b[0;32mif\u001b[0m \u001b[0m_check_hierarchy_uses_cluster_more_than_once\u001b[0m\u001b[0;34m(\u001b[0m\u001b[0mZ\u001b[0m\u001b[0;34m)\u001b[0m\u001b[0;34m:\u001b[0m\u001b[0;34m\u001b[0m\u001b[0m\n\u001b[1;32m   1476\u001b[0m             raise ValueError('Linkage %suses the same cluster more than once.'\n",
      "\u001b[0;31mValueError\u001b[0m: Linkage 'Z' uses non-singleton cluster before it is formed."
     ]
    }
   ],
   "source": [
    "Z[:100, ].shape"
   ]
  },
  {
   "cell_type": "code",
   "execution_count": 1336,
   "metadata": {},
   "outputs": [
    {
     "data": {
      "text/plain": [
       "(71720, 1)"
      ]
     },
     "execution_count": 1336,
     "metadata": {},
     "output_type": "execute_result"
    }
   ],
   "source": [
    "a.shape"
   ]
  },
  {
   "cell_type": "code",
   "execution_count": null,
   "metadata": {
    "collapsed": true
   },
   "outputs": [],
   "source": [
    "n = 20\n",
    "c = hierarchy.fcluster(Z, n, criterion='maxclust')\n",
    "d = pd.Series(c)\n",
    "for cluster in range(1,n+1):\n",
    "    wordsample = dictionary.token[d==cluster].iloc[:10].tolist()\n",
    "    print(cluster, \", \".join(wordsample))"
   ]
  },
  {
   "cell_type": "markdown",
   "metadata": {},
   "source": [
    "## Reconstruct Pages"
   ]
  },
  {
   "cell_type": "code",
   "execution_count": 984,
   "metadata": {},
   "outputs": [
    {
     "data": {
      "text/html": [
       "<img style='float:left' src='https://babel.hathitrust.org/cgi/imgsrv/image?id=uc2.ark:/13960/t9q23s061;seq=137;height=550' />"
      ],
      "text/plain": [
       "<IPython.core.display.HTML object>"
      ]
     },
     "execution_count": 984,
     "metadata": {},
     "output_type": "execute_result"
    }
   ],
   "source": [
    "page_sample = extended_page_ref.query('rights_attributes==\"pd\"').sample(1)\n",
    "page_images(page_sample.index)"
   ]
  },
  {
   "cell_type": "code",
   "execution_count": 987,
   "metadata": {},
   "outputs": [
    {
     "data": {
      "text/plain": [
       "'remove let tongue hotel few europe selection harder ped loop surgeon harmonize'"
      ]
     },
     "execution_count": 987,
     "metadata": {},
     "output_type": "execute_result"
    }
   ],
   "source": [
    "encoded_page = all_transformed[page_sample.index,:]\n",
    "regenerated_page = pd.Series(autoencoder.generate(encoded_page)[0], index=dictionary.token)\n",
    "\" \".join(regenerated_page[regenerated_page > np.random.rand(len(dictionary))].index.values)"
   ]
  }
 ],
 "metadata": {
  "kernelspec": {
   "display_name": "Python 3",
   "language": "python",
   "name": "python3"
  },
  "language_info": {
   "codemirror_mode": {
    "name": "ipython",
    "version": 3
   },
   "file_extension": ".py",
   "mimetype": "text/x-python",
   "name": "python",
   "nbconvert_exporter": "python",
   "pygments_lexer": "ipython3",
   "version": "3.5.2"
  }
 },
 "nbformat": 4,
 "nbformat_minor": 2
}

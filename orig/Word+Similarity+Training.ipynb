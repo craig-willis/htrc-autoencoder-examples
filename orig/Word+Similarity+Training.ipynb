{
 "cells": [
  {
   "cell_type": "code",
   "execution_count": 2,
   "metadata": {
    "collapsed": true
   },
   "outputs": [],
   "source": [
    "import pandas as pd\n",
    "import numpy as np\n",
    "from scipy import sparse"
   ]
  },
  {
   "cell_type": "code",
   "execution_count": 4,
   "metadata": {},
   "outputs": [
    {
     "data": {
      "text/html": [
       "<div>\n",
       "<table border=\"1\" class=\"dataframe\">\n",
       "  <thead>\n",
       "    <tr style=\"text-align: right;\">\n",
       "      <th></th>\n",
       "      <th>count</th>\n",
       "      <th>id</th>\n",
       "    </tr>\n",
       "  </thead>\n",
       "  <tbody>\n",
       "    <tr>\n",
       "      <th>0</th>\n",
       "      <td>2</td>\n",
       "      <td>26</td>\n",
       "    </tr>\n",
       "    <tr>\n",
       "      <th>100</th>\n",
       "      <td>1</td>\n",
       "      <td>423</td>\n",
       "    </tr>\n",
       "    <tr>\n",
       "      <th>200</th>\n",
       "      <td>1</td>\n",
       "      <td>649</td>\n",
       "    </tr>\n",
       "    <tr>\n",
       "      <th>300</th>\n",
       "      <td>1</td>\n",
       "      <td>42</td>\n",
       "    </tr>\n",
       "    <tr>\n",
       "      <th>400</th>\n",
       "      <td>1</td>\n",
       "      <td>339</td>\n",
       "    </tr>\n",
       "    <tr>\n",
       "      <th>500</th>\n",
       "      <td>2</td>\n",
       "      <td>29</td>\n",
       "    </tr>\n",
       "    <tr>\n",
       "      <th>600</th>\n",
       "      <td>1</td>\n",
       "      <td>615</td>\n",
       "    </tr>\n",
       "    <tr>\n",
       "      <th>700</th>\n",
       "      <td>1</td>\n",
       "      <td>1246</td>\n",
       "    </tr>\n",
       "    <tr>\n",
       "      <th>800</th>\n",
       "      <td>1</td>\n",
       "      <td>146</td>\n",
       "    </tr>\n",
       "    <tr>\n",
       "      <th>900</th>\n",
       "      <td>1</td>\n",
       "      <td>298</td>\n",
       "    </tr>\n",
       "  </tbody>\n",
       "</table>\n",
       "</div>"
      ],
      "text/plain": [
       "     count    id\n",
       "0        2    26\n",
       "100      1   423\n",
       "200      1   649\n",
       "300      1    42\n",
       "400      1   339\n",
       "500      2    29\n",
       "600      1   615\n",
       "700      1  1246\n",
       "800      1   146\n",
       "900      1   298"
      ]
     },
     "execution_count": 4,
     "metadata": {},
     "output_type": "execute_result"
    }
   ],
   "source": [
    "# Example of the 'counts' file\n",
    "counts = pd.read_hdf('cookbooks/cookbook.0005.h5', 'counts')\n",
    "counts[:1000:100][['count', 'id']]"
   ]
  },
  {
   "cell_type": "code",
   "execution_count": 25,
   "metadata": {},
   "outputs": [
    {
     "data": {
      "text/plain": [
       "<1x1400 sparse matrix of type '<class 'numpy.uint64'>'\n",
       "\twith 10 stored elements in Compressed Sparse Row format>"
      ]
     },
     "execution_count": 25,
     "metadata": {},
     "output_type": "execute_result"
    }
   ],
   "source": [
    "def make_sparse_doc_vec(arr, size):\n",
    "    data = arr[:,0]\n",
    "    ids = arr[:,1]\n",
    "    page_freq_vec = sparse.csr_matrix((data,\n",
    "                                       ids,\n",
    "                                       [0, len(data)]),\n",
    "                                      shape=(1, size),\n",
    "                                      dtype=np.uint64)\n",
    "    return page_freq_vec\n",
    "a = counts[:1000:100][['count', 'id']].values\n",
    "make_sparse_doc_vec(a, 1400)"
   ]
  },
  {
   "cell_type": "code",
   "execution_count": null,
   "metadata": {},
   "outputs": [],
   "source": [
    "# How big is this data?\n",
    "(big_matrix.data.nbytes + big_matrix.indices.nbytes + big_matrix.indptr.nbytes) / 1024 / 1024 / 1024"
   ]
  },
  {
   "cell_type": "code",
   "execution_count": 103,
   "metadata": {
    "scrolled": true
   },
   "outputs": [
    {
     "name": "stdout",
     "output_type": "stream",
     "text": [
      "0\n",
      "200\n",
      "400\n",
      "600\n",
      "800\n",
      "1000\n",
      "1200\n",
      "1400\n",
      "1600\n"
     ]
    }
   ],
   "source": [
    "import glob\n",
    "paths = glob.glob('cookbooks/cookbook*h5')\n",
    "all_pages = []\n",
    "doc_ref = []\n",
    "vocab_size = 13529\n",
    "i = 0 \n",
    "for path in paths:\n",
    "    if i % 200 == 0:\n",
    "        print(i)\n",
    "    try:\n",
    "        counts = pd.read_hdf(path, 'counts')\n",
    "    except:\n",
    "        continue\n",
    "    page_matrix = counts.groupby(['volid', 'page']).apply(lambda x: make_sparse_doc_vec(x[['count', 'id']].values, vocab_size))\n",
    "    all_pages += page_matrix.tolist()\n",
    "    doc_ref += page_matrix.index.tolist()\n",
    "    i += 1"
   ]
  },
  {
   "cell_type": "code",
   "execution_count": 114,
   "metadata": {
    "collapsed": true,
    "scrolled": true
   },
   "outputs": [],
   "source": [
    "doc_ref_df = pd.DataFrame(doc_ref, columns=['volid', 'page'])"
   ]
  },
  {
   "cell_type": "code",
   "execution_count": 72,
   "metadata": {
    "scrolled": false
   },
   "outputs": [
    {
     "data": {
      "text/plain": [
       "<280861x13529 sparse matrix of type '<class 'numpy.uint64'>'\n",
       "\twith 26030446 stored elements in Compressed Sparse Row format>"
      ]
     },
     "execution_count": 72,
     "metadata": {},
     "output_type": "execute_result"
    }
   ],
   "source": [
    "big_matrix = sparse.vstack(all_pages)\n",
    "del all_pages"
   ]
  },
  {
   "cell_type": "code",
   "execution_count": 115,
   "metadata": {
    "collapsed": true
   },
   "outputs": [],
   "source": [
    "sparse.save_npz(file='page_vecs_sparse.npz', matrix=big_matrix, compressed=True)\n",
    "doc_ref_df.to_hdf('page_vecs_order_ref.h5', 'order', complib='blosc')"
   ]
  },
  {
   "cell_type": "markdown",
   "metadata": {},
   "source": [
    "# Create a big cooccurence matrix\n",
    "\n",
    "Where the dictionary size is 13529, this creates a 13529x13529 matrix of counts for all words co-occurring. Each row is multiplied by itself and added with "
   ]
  },
  {
   "cell_type": "code",
   "execution_count": null,
   "metadata": {
    "collapsed": true
   },
   "outputs": [],
   "source": [
    "sparse_bytes = lambda x: (x.data.nbytes + x.indices.nbytes + x.indptr.nbytes) / 1024 / 1024 / 1024"
   ]
  },
  {
   "cell_type": "code",
   "execution_count": 97,
   "metadata": {},
   "outputs": [
    {
     "data": {
      "text/plain": [
       "<13529x13529 sparse matrix of type '<class 'numpy.uint64'>'\n",
       "\twith 18993706 stored elements in Compressed Sparse Column format>"
      ]
     },
     "execution_count": 97,
     "metadata": {},
     "output_type": "execute_result"
    }
   ],
   "source": [
    "cooc"
   ]
  },
  {
   "cell_type": "code",
   "execution_count": 96,
   "metadata": {
    "scrolled": true
   },
   "outputs": [
    {
     "name": "stdout",
     "output_type": "stream",
     "text": [
      "0 0.02312443032860756\n",
      "150 0.015728596597909927\n",
      "300 0.02932947501540184\n",
      "450 0.04581984132528305\n",
      "600 0.05173022300004959\n",
      "750 0.05717368796467781\n",
      "900 0.0599420964717865\n",
      "1050 0.06140926480293274\n",
      "1200 0.06321552023291588\n",
      "1350 0.06654242053627968\n",
      "1500 0.07131785899400711\n",
      "1650 0.0789937824010849\n",
      "1800 0.08364346995949745\n",
      "1950 0.08647402748465538\n",
      "2100 0.08742445707321167\n",
      "2250 0.08865708857774734\n",
      "2400 0.09179692715406418\n",
      "2550 0.09959365054965019\n",
      "2700 0.10403022542595863\n",
      "2850 0.10815862566232681\n",
      "3000 0.1137116476893425\n",
      "3150 0.11554813385009766\n",
      "3300 0.11745193228125572\n",
      "3450 0.11880869418382645\n",
      "3600 0.12166506797075272\n",
      "3750 0.12468011677265167\n",
      "3900 0.12708017975091934\n",
      "4050 0.12936751171946526\n",
      "4200 0.13144905120134354\n",
      "4350 0.14200489595532417\n",
      "4500 0.15351784229278564\n",
      "4650 0.1578560583293438\n",
      "4800 0.15900981053709984\n",
      "4950 0.16065575927495956\n",
      "5100 0.1612863577902317\n",
      "5250 0.1628401167690754\n",
      "5400 0.16409866511821747\n",
      "5550 0.1659129559993744\n",
      "5700 0.16779081523418427\n",
      "5850 0.16932614520192146\n",
      "6000 0.17285283654928207\n",
      "6150 0.17566169053316116\n",
      "6300 0.17855021730065346\n",
      "6450 0.17923076078295708\n",
      "6600 0.18017114326357841\n",
      "6750 0.18180245161056519\n",
      "6900 0.18760494142770767\n",
      "7050 0.19202741235494614\n",
      "7200 0.19689350947737694\n",
      "7350 0.20517516508698463\n",
      "7500 0.2075221762061119\n",
      "7650 0.20933819934725761\n",
      "7800 0.21100284531712532\n",
      "7950 0.21168050542473793\n",
      "8100 0.21228671818971634\n"
     ]
    },
    {
     "ename": "KeyboardInterrupt",
     "evalue": "",
     "output_type": "error",
     "traceback": [
      "\u001b[0;31m---------------------------------------------------------------------------\u001b[0m",
      "\u001b[0;31mKeyboardInterrupt\u001b[0m                         Traceback (most recent call last)",
      "\u001b[0;32m<ipython-input-96-5d8b0d424155>\u001b[0m in \u001b[0;36m<module>\u001b[0;34m()\u001b[0m\n\u001b[1;32m      6\u001b[0m         \u001b[0mcooc\u001b[0m \u001b[0;34m=\u001b[0m \u001b[0mpage_cooc\u001b[0m\u001b[0;34m\u001b[0m\u001b[0m\n\u001b[1;32m      7\u001b[0m     \u001b[0;32melse\u001b[0m\u001b[0;34m:\u001b[0m\u001b[0;34m\u001b[0m\u001b[0m\n\u001b[0;32m----> 8\u001b[0;31m         \u001b[0mcooc\u001b[0m \u001b[0;34m+=\u001b[0m \u001b[0mpage_cooc\u001b[0m\u001b[0;34m\u001b[0m\u001b[0m\n\u001b[0m",
      "\u001b[0;32m/opt/conda/lib/python3.5/site-packages/scipy/sparse/compressed.py\u001b[0m in \u001b[0;36m__add__\u001b[0;34m(self, other)\u001b[0m\n\u001b[1;32m    340\u001b[0m                 \u001b[0;32mraise\u001b[0m \u001b[0mValueError\u001b[0m\u001b[0;34m(\u001b[0m\u001b[0;34m\"inconsistent shapes\"\u001b[0m\u001b[0;34m)\u001b[0m\u001b[0;34m\u001b[0m\u001b[0m\n\u001b[1;32m    341\u001b[0m \u001b[0;34m\u001b[0m\u001b[0m\n\u001b[0;32m--> 342\u001b[0;31m             \u001b[0;32mreturn\u001b[0m \u001b[0mself\u001b[0m\u001b[0;34m.\u001b[0m\u001b[0m_binopt\u001b[0m\u001b[0;34m(\u001b[0m\u001b[0mother\u001b[0m\u001b[0;34m,\u001b[0m\u001b[0;34m'_plus_'\u001b[0m\u001b[0;34m)\u001b[0m\u001b[0;34m\u001b[0m\u001b[0m\n\u001b[0m\u001b[1;32m    343\u001b[0m         \u001b[0;32melif\u001b[0m \u001b[0misdense\u001b[0m\u001b[0;34m(\u001b[0m\u001b[0mother\u001b[0m\u001b[0;34m)\u001b[0m\u001b[0;34m:\u001b[0m\u001b[0;34m\u001b[0m\u001b[0m\n\u001b[1;32m    344\u001b[0m             \u001b[0;31m# Convert this matrix to a dense matrix and add them\u001b[0m\u001b[0;34m\u001b[0m\u001b[0;34m\u001b[0m\u001b[0m\n",
      "\u001b[0;32m/opt/conda/lib/python3.5/site-packages/scipy/sparse/compressed.py\u001b[0m in \u001b[0;36m_binopt\u001b[0;34m(self, other, op)\u001b[0m\n\u001b[1;32m   1122\u001b[0m            \u001b[0mnp\u001b[0m\u001b[0;34m.\u001b[0m\u001b[0masarray\u001b[0m\u001b[0;34m(\u001b[0m\u001b[0mother\u001b[0m\u001b[0;34m.\u001b[0m\u001b[0mindices\u001b[0m\u001b[0;34m,\u001b[0m \u001b[0mdtype\u001b[0m\u001b[0;34m=\u001b[0m\u001b[0midx_dtype\u001b[0m\u001b[0;34m)\u001b[0m\u001b[0;34m,\u001b[0m\u001b[0;34m\u001b[0m\u001b[0m\n\u001b[1;32m   1123\u001b[0m            \u001b[0mother\u001b[0m\u001b[0;34m.\u001b[0m\u001b[0mdata\u001b[0m\u001b[0;34m,\u001b[0m\u001b[0;34m\u001b[0m\u001b[0m\n\u001b[0;32m-> 1124\u001b[0;31m            indptr, indices, data)\n\u001b[0m\u001b[1;32m   1125\u001b[0m \u001b[0;34m\u001b[0m\u001b[0m\n\u001b[1;32m   1126\u001b[0m         \u001b[0mA\u001b[0m \u001b[0;34m=\u001b[0m \u001b[0mself\u001b[0m\u001b[0;34m.\u001b[0m\u001b[0m__class__\u001b[0m\u001b[0;34m(\u001b[0m\u001b[0;34m(\u001b[0m\u001b[0mdata\u001b[0m\u001b[0;34m,\u001b[0m \u001b[0mindices\u001b[0m\u001b[0;34m,\u001b[0m \u001b[0mindptr\u001b[0m\u001b[0;34m)\u001b[0m\u001b[0;34m,\u001b[0m \u001b[0mshape\u001b[0m\u001b[0;34m=\u001b[0m\u001b[0mself\u001b[0m\u001b[0;34m.\u001b[0m\u001b[0mshape\u001b[0m\u001b[0;34m)\u001b[0m\u001b[0;34m\u001b[0m\u001b[0m\n",
      "\u001b[0;31mKeyboardInterrupt\u001b[0m: "
     ]
    }
   ],
   "source": [
    "for i in range(0, big_matrix.shape[0]):\n",
    "    if i % 150 == 0:\n",
    "        print(i, (cooc.data.nbytes + cooc.indices.nbytes + cooc.indptr.nbytes) / 1024 / 1024 / 1024)\n",
    "    page_cooc = big_matrix[i,:].T * big_matrix[i,:]\n",
    "    if i == 0:\n",
    "        cooc = page_cooc\n",
    "    else:\n",
    "        cooc += page_cooc"
   ]
  },
  {
   "cell_type": "code",
   "execution_count": null,
   "metadata": {
    "collapsed": true
   },
   "outputs": [],
   "source": [
    "print(i, sparse_bytes(cooc)"
   ]
  },
  {
   "cell_type": "code",
   "execution_count": null,
   "metadata": {
    "collapsed": true
   },
   "outputs": [],
   "source": [
    "cooc.setdiag(0)"
   ]
  },
  {
   "cell_type": "code",
   "execution_count": null,
   "metadata": {
    "collapsed": true
   },
   "outputs": [],
   "source": [
    "sparse.save_npz(file='word_cooc_sparse.npz', matrix=cooc, compressed=True)"
   ]
  },
  {
   "cell_type": "code",
   "execution_count": 21,
   "metadata": {},
   "outputs": [
    {
     "data": {
      "text/plain": [
       "<2x1400 sparse matrix of type '<class 'numpy.uint64'>'\n",
       "\twith 20 stored elements in Compressed Sparse Row format>"
      ]
     },
     "execution_count": 21,
     "metadata": {},
     "output_type": "execute_result"
    }
   ],
   "source": [
    "sparse.vstack([page_freq_vec, page_freq_vec])"
   ]
  },
  {
   "cell_type": "code",
   "execution_count": 4,
   "metadata": {
    "collapsed": true
   },
   "outputs": [],
   "source": [
    "def make_cooc_mat(arr, size, log=False):\n",
    "    ''' Take an array of values, where arr[:,0] is the word counts, and arr[:1] is the corresponding indices'''\n",
    "    if log:\n",
    "        nwords = arr[:,0].sum()\n",
    "        data = np.log(1+(arr[:,0]/nwords))\n",
    "        dtype = np.float\n",
    "    else:\n",
    "        data = arr[:,0]\n",
    "        dtype = np.uint64\n",
    "    \n",
    "    page_freq_vec = sparse.csr_matrix((data,\n",
    "                                       arr[:,1],\n",
    "                                       [0, arr.shape[0]]),\n",
    "                                      shape=(1, size),\n",
    "                                      dtype=dtype)\n",
    "    # Multiply counts to get cooccurances\n",
    "    # does NOT set the diagonals to 0: that's more efficient to do at the end\n",
    "    # so that the sparse matrix format isn't being tinkered with too much\n",
    "    page_cooc = (page_freq_vec.T * page_freq_vec)\n",
    "        \n",
    "    return page_cooc"
   ]
  },
  {
   "cell_type": "code",
   "execution_count": null,
   "metadata": {
    "collapsed": true
   },
   "outputs": [],
   "source": [
    "arr = counts[:1000:100][['count', 'id']].values\n",
    "a = make_cooc_mat(arr, size=1246)"
   ]
  }
 ],
 "metadata": {
  "kernelspec": {
   "display_name": "Python 3",
   "language": "python",
   "name": "python3"
  },
  "language_info": {
   "codemirror_mode": {
    "name": "ipython",
    "version": 3
   },
   "file_extension": ".py",
   "mimetype": "text/x-python",
   "name": "python",
   "nbconvert_exporter": "python",
   "pygments_lexer": "ipython3",
   "version": "3.5.2"
  }
 },
 "nbformat": 4,
 "nbformat_minor": 2
}
